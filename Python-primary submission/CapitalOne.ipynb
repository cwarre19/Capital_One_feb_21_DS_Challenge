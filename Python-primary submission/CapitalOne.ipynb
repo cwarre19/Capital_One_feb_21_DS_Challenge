{
 "cells": [
  {
   "cell_type": "markdown",
   "metadata": {},
   "source": [
    "# Chloe Warren – C1848857"
   ]
  },
  {
   "cell_type": "markdown",
   "metadata": {},
   "source": [
    "# Hello! If you are unfamiliar with Jupyter Notebook you can simply press shift+enter to run cells, run the cells in the order they appear, you MUST upload the transactions.txt file to the jupyter folder you have this notebook in."
   ]
  },
  {
   "cell_type": "markdown",
   "metadata": {},
   "source": [
    "### Required Libraries"
   ]
  },
  {
   "cell_type": "code",
   "execution_count": 1,
   "metadata": {},
   "outputs": [
    {
     "name": "stdout",
     "output_type": "stream",
     "text": [
      "Populating the interactive namespace from numpy and matplotlib\n"
     ]
    }
   ],
   "source": [
    "%pylab inline"
   ]
  },
  {
   "cell_type": "code",
   "execution_count": 2,
   "metadata": {},
   "outputs": [
    {
     "name": "stdout",
     "output_type": "stream",
     "text": [
      "Python version: 3.8.5\n"
     ]
    }
   ],
   "source": [
    "import platform\n",
    "print(\"Python version:\", platform.python_version()) \n",
    "#so you know what I am using"
   ]
  },
  {
   "cell_type": "code",
   "execution_count": 3,
   "metadata": {},
   "outputs": [],
   "source": [
    "import pandas as pd\n",
    "import numpy as np\n",
    "import zipfile\n",
    "import json"
   ]
  },
  {
   "cell_type": "code",
   "execution_count": 4,
   "metadata": {},
   "outputs": [],
   "source": [
    "from sklearn.preprocessing import StandardScaler\n",
    "from sklearn.model_selection import train_test_split\n",
    "from sklearn.pipeline import Pipeline\n",
    "from sklearn.tree import DecisionTreeClassifier\n",
    "from sklearn.compose import ColumnTransformer\n",
    "from sklearn.preprocessing import StandardScaler, OneHotEncoder\n",
    "from sklearn.model_selection import train_test_split, GridSearchCV, cross_val_score"
   ]
  },
  {
   "cell_type": "code",
   "execution_count": 5,
   "metadata": {},
   "outputs": [],
   "source": [
    "from plotnine import *"
   ]
  },
  {
   "cell_type": "code",
   "execution_count": 6,
   "metadata": {},
   "outputs": [],
   "source": [
    "# source: https://gist.github.com/sainathadapa/eb3303975196d15c73bac5b92d8a210f\n",
    "# helper functions\n",
    "def anti_join(x, y, on):\n",
    "    \"\"\"Return rows in x which are not present in y\"\"\"\n",
    "    ans = pd.merge(left=x, right=y, how='left', indicator=True, on=on)\n",
    "    ans = ans.loc[ans._merge == 'left_only', :].drop(columns='_merge')\n",
    "    return ans\n",
    "\n",
    "def anti_join_all_cols(x, y):\n",
    "    \"\"\"Return rows in x which are not present in y\"\"\"\n",
    "    assert set(x.columns.values) == set(y.columns.values)\n",
    "    return anti_join(x, y, x.columns.tolist())"
   ]
  },
  {
   "cell_type": "markdown",
   "metadata": {},
   "source": [
    "# Question 1: Load\n",
    "\n",
    "•Programmatically download and load into your favorite analytical tool the transactions data. This data, which is in line-delimited JSON format, can be found here\n",
    "\n",
    "•Please describe the structure of the data. Number of records and fields in each record?\n",
    "\n",
    "•Please provide some additional basic summary statistics for each field. Be sure to include a count of null, minimum, maximum, and unique values where appropriate."
   ]
  },
  {
   "cell_type": "markdown",
   "metadata": {},
   "source": [
    "\n",
    "# Dataset Preparation\n",
    "\n",
    "Downloading and Unzipping the dataset."
   ]
  },
  {
   "cell_type": "code",
   "execution_count": 7,
   "metadata": {},
   "outputs": [
    {
     "name": "stdout",
     "output_type": "stream",
     "text": [
      "Warning: Binary output can mess up your terminal. Use \"--output -\" to tell \r\n",
      "Warning: curl to output it to your terminal anyway, or consider \"--output \r\n",
      "Warning: <FILE>\" to save to a file.\r\n"
     ]
    }
   ],
   "source": [
    "# Run at start\n",
    "!curl https://raw.githubusercontent.com/CapitalOneRecruiting/DS/master/transactions.zip\n",
    "with open(\"transactions.txt\") as f: \n",
    "    raw_data = f.readlines() \n",
    "    raw_json = map(json.loads,raw_data)\n",
    "df = pd.DataFrame.from_records(raw_json)\n",
    "df.to_csv(\"transaction.csv\", index=False)"
   ]
  },
  {
   "cell_type": "code",
   "execution_count": 8,
   "metadata": {},
   "outputs": [],
   "source": [
    "df = pd.read_csv(\"transaction.csv\")"
   ]
  },
  {
   "cell_type": "code",
   "execution_count": 9,
   "metadata": {},
   "outputs": [
    {
     "data": {
      "text/html": [
       "<div>\n",
       "<style scoped>\n",
       "    .dataframe tbody tr th:only-of-type {\n",
       "        vertical-align: middle;\n",
       "    }\n",
       "\n",
       "    .dataframe tbody tr th {\n",
       "        vertical-align: top;\n",
       "    }\n",
       "\n",
       "    .dataframe thead th {\n",
       "        text-align: right;\n",
       "    }\n",
       "</style>\n",
       "<table border=\"1\" class=\"dataframe\">\n",
       "  <thead>\n",
       "    <tr style=\"text-align: right;\">\n",
       "      <th></th>\n",
       "      <th>accountNumber</th>\n",
       "      <th>customerId</th>\n",
       "      <th>creditLimit</th>\n",
       "      <th>availableMoney</th>\n",
       "      <th>transactionDateTime</th>\n",
       "      <th>transactionAmount</th>\n",
       "      <th>merchantName</th>\n",
       "      <th>acqCountry</th>\n",
       "      <th>merchantCountryCode</th>\n",
       "      <th>posEntryMode</th>\n",
       "      <th>...</th>\n",
       "      <th>echoBuffer</th>\n",
       "      <th>currentBalance</th>\n",
       "      <th>merchantCity</th>\n",
       "      <th>merchantState</th>\n",
       "      <th>merchantZip</th>\n",
       "      <th>cardPresent</th>\n",
       "      <th>posOnPremises</th>\n",
       "      <th>recurringAuthInd</th>\n",
       "      <th>expirationDateKeyInMatch</th>\n",
       "      <th>isFraud</th>\n",
       "    </tr>\n",
       "  </thead>\n",
       "  <tbody>\n",
       "    <tr>\n",
       "      <th>0</th>\n",
       "      <td>737265056</td>\n",
       "      <td>737265056</td>\n",
       "      <td>5000.0</td>\n",
       "      <td>5000.0</td>\n",
       "      <td>2016-08-13T14:27:32</td>\n",
       "      <td>98.55</td>\n",
       "      <td>Uber</td>\n",
       "      <td>US</td>\n",
       "      <td>US</td>\n",
       "      <td>2.0</td>\n",
       "      <td>...</td>\n",
       "      <td>NaN</td>\n",
       "      <td>0.0</td>\n",
       "      <td>NaN</td>\n",
       "      <td>NaN</td>\n",
       "      <td>NaN</td>\n",
       "      <td>False</td>\n",
       "      <td>NaN</td>\n",
       "      <td>NaN</td>\n",
       "      <td>False</td>\n",
       "      <td>False</td>\n",
       "    </tr>\n",
       "    <tr>\n",
       "      <th>1</th>\n",
       "      <td>737265056</td>\n",
       "      <td>737265056</td>\n",
       "      <td>5000.0</td>\n",
       "      <td>5000.0</td>\n",
       "      <td>2016-10-11T05:05:54</td>\n",
       "      <td>74.51</td>\n",
       "      <td>AMC #191138</td>\n",
       "      <td>US</td>\n",
       "      <td>US</td>\n",
       "      <td>9.0</td>\n",
       "      <td>...</td>\n",
       "      <td>NaN</td>\n",
       "      <td>0.0</td>\n",
       "      <td>NaN</td>\n",
       "      <td>NaN</td>\n",
       "      <td>NaN</td>\n",
       "      <td>True</td>\n",
       "      <td>NaN</td>\n",
       "      <td>NaN</td>\n",
       "      <td>False</td>\n",
       "      <td>False</td>\n",
       "    </tr>\n",
       "    <tr>\n",
       "      <th>2</th>\n",
       "      <td>737265056</td>\n",
       "      <td>737265056</td>\n",
       "      <td>5000.0</td>\n",
       "      <td>5000.0</td>\n",
       "      <td>2016-11-08T09:18:39</td>\n",
       "      <td>7.47</td>\n",
       "      <td>Play Store</td>\n",
       "      <td>US</td>\n",
       "      <td>US</td>\n",
       "      <td>9.0</td>\n",
       "      <td>...</td>\n",
       "      <td>NaN</td>\n",
       "      <td>0.0</td>\n",
       "      <td>NaN</td>\n",
       "      <td>NaN</td>\n",
       "      <td>NaN</td>\n",
       "      <td>False</td>\n",
       "      <td>NaN</td>\n",
       "      <td>NaN</td>\n",
       "      <td>False</td>\n",
       "      <td>False</td>\n",
       "    </tr>\n",
       "    <tr>\n",
       "      <th>3</th>\n",
       "      <td>737265056</td>\n",
       "      <td>737265056</td>\n",
       "      <td>5000.0</td>\n",
       "      <td>5000.0</td>\n",
       "      <td>2016-12-10T02:14:50</td>\n",
       "      <td>7.47</td>\n",
       "      <td>Play Store</td>\n",
       "      <td>US</td>\n",
       "      <td>US</td>\n",
       "      <td>9.0</td>\n",
       "      <td>...</td>\n",
       "      <td>NaN</td>\n",
       "      <td>0.0</td>\n",
       "      <td>NaN</td>\n",
       "      <td>NaN</td>\n",
       "      <td>NaN</td>\n",
       "      <td>False</td>\n",
       "      <td>NaN</td>\n",
       "      <td>NaN</td>\n",
       "      <td>False</td>\n",
       "      <td>False</td>\n",
       "    </tr>\n",
       "    <tr>\n",
       "      <th>4</th>\n",
       "      <td>830329091</td>\n",
       "      <td>830329091</td>\n",
       "      <td>5000.0</td>\n",
       "      <td>5000.0</td>\n",
       "      <td>2016-03-24T21:04:46</td>\n",
       "      <td>71.18</td>\n",
       "      <td>Tim Hortons #947751</td>\n",
       "      <td>US</td>\n",
       "      <td>US</td>\n",
       "      <td>2.0</td>\n",
       "      <td>...</td>\n",
       "      <td>NaN</td>\n",
       "      <td>0.0</td>\n",
       "      <td>NaN</td>\n",
       "      <td>NaN</td>\n",
       "      <td>NaN</td>\n",
       "      <td>True</td>\n",
       "      <td>NaN</td>\n",
       "      <td>NaN</td>\n",
       "      <td>False</td>\n",
       "      <td>False</td>\n",
       "    </tr>\n",
       "  </tbody>\n",
       "</table>\n",
       "<p>5 rows × 29 columns</p>\n",
       "</div>"
      ],
      "text/plain": [
       "   accountNumber  customerId  creditLimit  availableMoney  \\\n",
       "0      737265056   737265056       5000.0          5000.0   \n",
       "1      737265056   737265056       5000.0          5000.0   \n",
       "2      737265056   737265056       5000.0          5000.0   \n",
       "3      737265056   737265056       5000.0          5000.0   \n",
       "4      830329091   830329091       5000.0          5000.0   \n",
       "\n",
       "   transactionDateTime  transactionAmount         merchantName acqCountry  \\\n",
       "0  2016-08-13T14:27:32              98.55                 Uber         US   \n",
       "1  2016-10-11T05:05:54              74.51          AMC #191138         US   \n",
       "2  2016-11-08T09:18:39               7.47           Play Store         US   \n",
       "3  2016-12-10T02:14:50               7.47           Play Store         US   \n",
       "4  2016-03-24T21:04:46              71.18  Tim Hortons #947751         US   \n",
       "\n",
       "  merchantCountryCode  posEntryMode  ...  echoBuffer currentBalance  \\\n",
       "0                  US           2.0  ...         NaN            0.0   \n",
       "1                  US           9.0  ...         NaN            0.0   \n",
       "2                  US           9.0  ...         NaN            0.0   \n",
       "3                  US           9.0  ...         NaN            0.0   \n",
       "4                  US           2.0  ...         NaN            0.0   \n",
       "\n",
       "  merchantCity merchantState merchantZip  cardPresent  posOnPremises  \\\n",
       "0          NaN           NaN         NaN        False            NaN   \n",
       "1          NaN           NaN         NaN         True            NaN   \n",
       "2          NaN           NaN         NaN        False            NaN   \n",
       "3          NaN           NaN         NaN        False            NaN   \n",
       "4          NaN           NaN         NaN         True            NaN   \n",
       "\n",
       "   recurringAuthInd expirationDateKeyInMatch  isFraud  \n",
       "0               NaN                    False    False  \n",
       "1               NaN                    False    False  \n",
       "2               NaN                    False    False  \n",
       "3               NaN                    False    False  \n",
       "4               NaN                    False    False  \n",
       "\n",
       "[5 rows x 29 columns]"
      ]
     },
     "execution_count": 9,
     "metadata": {},
     "output_type": "execute_result"
    }
   ],
   "source": [
    "df.head()"
   ]
  },
  {
   "cell_type": "code",
   "execution_count": 10,
   "metadata": {
    "scrolled": false
   },
   "outputs": [
    {
     "data": {
      "text/html": [
       "<div>\n",
       "<style scoped>\n",
       "    .dataframe tbody tr th:only-of-type {\n",
       "        vertical-align: middle;\n",
       "    }\n",
       "\n",
       "    .dataframe tbody tr th {\n",
       "        vertical-align: top;\n",
       "    }\n",
       "\n",
       "    .dataframe thead th {\n",
       "        text-align: right;\n",
       "    }\n",
       "</style>\n",
       "<table border=\"1\" class=\"dataframe\">\n",
       "  <thead>\n",
       "    <tr style=\"text-align: right;\">\n",
       "      <th></th>\n",
       "      <th>count</th>\n",
       "      <th>unique</th>\n",
       "      <th>top</th>\n",
       "      <th>freq</th>\n",
       "      <th>mean</th>\n",
       "      <th>std</th>\n",
       "      <th>min</th>\n",
       "      <th>25%</th>\n",
       "      <th>50%</th>\n",
       "      <th>75%</th>\n",
       "      <th>max</th>\n",
       "    </tr>\n",
       "  </thead>\n",
       "  <tbody>\n",
       "    <tr>\n",
       "      <th>accountNumber</th>\n",
       "      <td>786363</td>\n",
       "      <td>NaN</td>\n",
       "      <td>NaN</td>\n",
       "      <td>NaN</td>\n",
       "      <td>5.37233e+08</td>\n",
       "      <td>2.55421e+08</td>\n",
       "      <td>1.00088e+08</td>\n",
       "      <td>3.30133e+08</td>\n",
       "      <td>5.07456e+08</td>\n",
       "      <td>7.6762e+08</td>\n",
       "      <td>9.9939e+08</td>\n",
       "    </tr>\n",
       "    <tr>\n",
       "      <th>customerId</th>\n",
       "      <td>786363</td>\n",
       "      <td>NaN</td>\n",
       "      <td>NaN</td>\n",
       "      <td>NaN</td>\n",
       "      <td>5.37233e+08</td>\n",
       "      <td>2.55421e+08</td>\n",
       "      <td>1.00088e+08</td>\n",
       "      <td>3.30133e+08</td>\n",
       "      <td>5.07456e+08</td>\n",
       "      <td>7.6762e+08</td>\n",
       "      <td>9.9939e+08</td>\n",
       "    </tr>\n",
       "    <tr>\n",
       "      <th>creditLimit</th>\n",
       "      <td>786363</td>\n",
       "      <td>NaN</td>\n",
       "      <td>NaN</td>\n",
       "      <td>NaN</td>\n",
       "      <td>10759.5</td>\n",
       "      <td>11636.2</td>\n",
       "      <td>250</td>\n",
       "      <td>5000</td>\n",
       "      <td>7500</td>\n",
       "      <td>15000</td>\n",
       "      <td>50000</td>\n",
       "    </tr>\n",
       "    <tr>\n",
       "      <th>availableMoney</th>\n",
       "      <td>786363</td>\n",
       "      <td>NaN</td>\n",
       "      <td>NaN</td>\n",
       "      <td>NaN</td>\n",
       "      <td>6250.73</td>\n",
       "      <td>8880.78</td>\n",
       "      <td>-1005.63</td>\n",
       "      <td>1077.42</td>\n",
       "      <td>3184.86</td>\n",
       "      <td>7500</td>\n",
       "      <td>50000</td>\n",
       "    </tr>\n",
       "    <tr>\n",
       "      <th>transactionDateTime</th>\n",
       "      <td>786363</td>\n",
       "      <td>776637</td>\n",
       "      <td>2016-05-28T14:24:41</td>\n",
       "      <td>4</td>\n",
       "      <td>NaN</td>\n",
       "      <td>NaN</td>\n",
       "      <td>NaN</td>\n",
       "      <td>NaN</td>\n",
       "      <td>NaN</td>\n",
       "      <td>NaN</td>\n",
       "      <td>NaN</td>\n",
       "    </tr>\n",
       "    <tr>\n",
       "      <th>transactionAmount</th>\n",
       "      <td>786363</td>\n",
       "      <td>NaN</td>\n",
       "      <td>NaN</td>\n",
       "      <td>NaN</td>\n",
       "      <td>136.986</td>\n",
       "      <td>147.726</td>\n",
       "      <td>0</td>\n",
       "      <td>33.65</td>\n",
       "      <td>87.9</td>\n",
       "      <td>191.48</td>\n",
       "      <td>2011.54</td>\n",
       "    </tr>\n",
       "    <tr>\n",
       "      <th>merchantName</th>\n",
       "      <td>786363</td>\n",
       "      <td>2490</td>\n",
       "      <td>Uber</td>\n",
       "      <td>25613</td>\n",
       "      <td>NaN</td>\n",
       "      <td>NaN</td>\n",
       "      <td>NaN</td>\n",
       "      <td>NaN</td>\n",
       "      <td>NaN</td>\n",
       "      <td>NaN</td>\n",
       "      <td>NaN</td>\n",
       "    </tr>\n",
       "    <tr>\n",
       "      <th>acqCountry</th>\n",
       "      <td>781801</td>\n",
       "      <td>4</td>\n",
       "      <td>US</td>\n",
       "      <td>774709</td>\n",
       "      <td>NaN</td>\n",
       "      <td>NaN</td>\n",
       "      <td>NaN</td>\n",
       "      <td>NaN</td>\n",
       "      <td>NaN</td>\n",
       "      <td>NaN</td>\n",
       "      <td>NaN</td>\n",
       "    </tr>\n",
       "    <tr>\n",
       "      <th>merchantCountryCode</th>\n",
       "      <td>785639</td>\n",
       "      <td>4</td>\n",
       "      <td>US</td>\n",
       "      <td>778511</td>\n",
       "      <td>NaN</td>\n",
       "      <td>NaN</td>\n",
       "      <td>NaN</td>\n",
       "      <td>NaN</td>\n",
       "      <td>NaN</td>\n",
       "      <td>NaN</td>\n",
       "      <td>NaN</td>\n",
       "    </tr>\n",
       "    <tr>\n",
       "      <th>posEntryMode</th>\n",
       "      <td>782309</td>\n",
       "      <td>NaN</td>\n",
       "      <td>NaN</td>\n",
       "      <td>NaN</td>\n",
       "      <td>9.04994</td>\n",
       "      <td>16.7741</td>\n",
       "      <td>2</td>\n",
       "      <td>2</td>\n",
       "      <td>5</td>\n",
       "      <td>9</td>\n",
       "      <td>90</td>\n",
       "    </tr>\n",
       "    <tr>\n",
       "      <th>posConditionCode</th>\n",
       "      <td>785954</td>\n",
       "      <td>NaN</td>\n",
       "      <td>NaN</td>\n",
       "      <td>NaN</td>\n",
       "      <td>3.27198</td>\n",
       "      <td>9.80902</td>\n",
       "      <td>1</td>\n",
       "      <td>1</td>\n",
       "      <td>1</td>\n",
       "      <td>1</td>\n",
       "      <td>99</td>\n",
       "    </tr>\n",
       "    <tr>\n",
       "      <th>merchantCategoryCode</th>\n",
       "      <td>786363</td>\n",
       "      <td>19</td>\n",
       "      <td>online_retail</td>\n",
       "      <td>202156</td>\n",
       "      <td>NaN</td>\n",
       "      <td>NaN</td>\n",
       "      <td>NaN</td>\n",
       "      <td>NaN</td>\n",
       "      <td>NaN</td>\n",
       "      <td>NaN</td>\n",
       "      <td>NaN</td>\n",
       "    </tr>\n",
       "    <tr>\n",
       "      <th>currentExpDate</th>\n",
       "      <td>786363</td>\n",
       "      <td>165</td>\n",
       "      <td>03/2029</td>\n",
       "      <td>5103</td>\n",
       "      <td>NaN</td>\n",
       "      <td>NaN</td>\n",
       "      <td>NaN</td>\n",
       "      <td>NaN</td>\n",
       "      <td>NaN</td>\n",
       "      <td>NaN</td>\n",
       "      <td>NaN</td>\n",
       "    </tr>\n",
       "    <tr>\n",
       "      <th>accountOpenDate</th>\n",
       "      <td>786363</td>\n",
       "      <td>1820</td>\n",
       "      <td>2014-06-21</td>\n",
       "      <td>33623</td>\n",
       "      <td>NaN</td>\n",
       "      <td>NaN</td>\n",
       "      <td>NaN</td>\n",
       "      <td>NaN</td>\n",
       "      <td>NaN</td>\n",
       "      <td>NaN</td>\n",
       "      <td>NaN</td>\n",
       "    </tr>\n",
       "    <tr>\n",
       "      <th>dateOfLastAddressChange</th>\n",
       "      <td>786363</td>\n",
       "      <td>2184</td>\n",
       "      <td>2016-03-15</td>\n",
       "      <td>3819</td>\n",
       "      <td>NaN</td>\n",
       "      <td>NaN</td>\n",
       "      <td>NaN</td>\n",
       "      <td>NaN</td>\n",
       "      <td>NaN</td>\n",
       "      <td>NaN</td>\n",
       "      <td>NaN</td>\n",
       "    </tr>\n",
       "    <tr>\n",
       "      <th>cardCVV</th>\n",
       "      <td>786363</td>\n",
       "      <td>NaN</td>\n",
       "      <td>NaN</td>\n",
       "      <td>NaN</td>\n",
       "      <td>544.467</td>\n",
       "      <td>261.524</td>\n",
       "      <td>100</td>\n",
       "      <td>310</td>\n",
       "      <td>535</td>\n",
       "      <td>785</td>\n",
       "      <td>998</td>\n",
       "    </tr>\n",
       "    <tr>\n",
       "      <th>enteredCVV</th>\n",
       "      <td>786363</td>\n",
       "      <td>NaN</td>\n",
       "      <td>NaN</td>\n",
       "      <td>NaN</td>\n",
       "      <td>544.184</td>\n",
       "      <td>261.551</td>\n",
       "      <td>0</td>\n",
       "      <td>310</td>\n",
       "      <td>535</td>\n",
       "      <td>785</td>\n",
       "      <td>998</td>\n",
       "    </tr>\n",
       "    <tr>\n",
       "      <th>cardLast4Digits</th>\n",
       "      <td>786363</td>\n",
       "      <td>NaN</td>\n",
       "      <td>NaN</td>\n",
       "      <td>NaN</td>\n",
       "      <td>4757.42</td>\n",
       "      <td>2996.58</td>\n",
       "      <td>0</td>\n",
       "      <td>2178</td>\n",
       "      <td>4733</td>\n",
       "      <td>7338</td>\n",
       "      <td>9998</td>\n",
       "    </tr>\n",
       "    <tr>\n",
       "      <th>transactionType</th>\n",
       "      <td>785665</td>\n",
       "      <td>3</td>\n",
       "      <td>PURCHASE</td>\n",
       "      <td>745193</td>\n",
       "      <td>NaN</td>\n",
       "      <td>NaN</td>\n",
       "      <td>NaN</td>\n",
       "      <td>NaN</td>\n",
       "      <td>NaN</td>\n",
       "      <td>NaN</td>\n",
       "      <td>NaN</td>\n",
       "    </tr>\n",
       "    <tr>\n",
       "      <th>echoBuffer</th>\n",
       "      <td>0</td>\n",
       "      <td>NaN</td>\n",
       "      <td>NaN</td>\n",
       "      <td>NaN</td>\n",
       "      <td>NaN</td>\n",
       "      <td>NaN</td>\n",
       "      <td>NaN</td>\n",
       "      <td>NaN</td>\n",
       "      <td>NaN</td>\n",
       "      <td>NaN</td>\n",
       "      <td>NaN</td>\n",
       "    </tr>\n",
       "    <tr>\n",
       "      <th>currentBalance</th>\n",
       "      <td>786363</td>\n",
       "      <td>NaN</td>\n",
       "      <td>NaN</td>\n",
       "      <td>NaN</td>\n",
       "      <td>4508.74</td>\n",
       "      <td>6457.44</td>\n",
       "      <td>0</td>\n",
       "      <td>689.91</td>\n",
       "      <td>2451.76</td>\n",
       "      <td>5291.1</td>\n",
       "      <td>47498.8</td>\n",
       "    </tr>\n",
       "    <tr>\n",
       "      <th>merchantCity</th>\n",
       "      <td>0</td>\n",
       "      <td>NaN</td>\n",
       "      <td>NaN</td>\n",
       "      <td>NaN</td>\n",
       "      <td>NaN</td>\n",
       "      <td>NaN</td>\n",
       "      <td>NaN</td>\n",
       "      <td>NaN</td>\n",
       "      <td>NaN</td>\n",
       "      <td>NaN</td>\n",
       "      <td>NaN</td>\n",
       "    </tr>\n",
       "    <tr>\n",
       "      <th>merchantState</th>\n",
       "      <td>0</td>\n",
       "      <td>NaN</td>\n",
       "      <td>NaN</td>\n",
       "      <td>NaN</td>\n",
       "      <td>NaN</td>\n",
       "      <td>NaN</td>\n",
       "      <td>NaN</td>\n",
       "      <td>NaN</td>\n",
       "      <td>NaN</td>\n",
       "      <td>NaN</td>\n",
       "      <td>NaN</td>\n",
       "    </tr>\n",
       "    <tr>\n",
       "      <th>merchantZip</th>\n",
       "      <td>0</td>\n",
       "      <td>NaN</td>\n",
       "      <td>NaN</td>\n",
       "      <td>NaN</td>\n",
       "      <td>NaN</td>\n",
       "      <td>NaN</td>\n",
       "      <td>NaN</td>\n",
       "      <td>NaN</td>\n",
       "      <td>NaN</td>\n",
       "      <td>NaN</td>\n",
       "      <td>NaN</td>\n",
       "    </tr>\n",
       "    <tr>\n",
       "      <th>cardPresent</th>\n",
       "      <td>786363</td>\n",
       "      <td>2</td>\n",
       "      <td>False</td>\n",
       "      <td>433495</td>\n",
       "      <td>NaN</td>\n",
       "      <td>NaN</td>\n",
       "      <td>NaN</td>\n",
       "      <td>NaN</td>\n",
       "      <td>NaN</td>\n",
       "      <td>NaN</td>\n",
       "      <td>NaN</td>\n",
       "    </tr>\n",
       "    <tr>\n",
       "      <th>posOnPremises</th>\n",
       "      <td>0</td>\n",
       "      <td>NaN</td>\n",
       "      <td>NaN</td>\n",
       "      <td>NaN</td>\n",
       "      <td>NaN</td>\n",
       "      <td>NaN</td>\n",
       "      <td>NaN</td>\n",
       "      <td>NaN</td>\n",
       "      <td>NaN</td>\n",
       "      <td>NaN</td>\n",
       "      <td>NaN</td>\n",
       "    </tr>\n",
       "    <tr>\n",
       "      <th>recurringAuthInd</th>\n",
       "      <td>0</td>\n",
       "      <td>NaN</td>\n",
       "      <td>NaN</td>\n",
       "      <td>NaN</td>\n",
       "      <td>NaN</td>\n",
       "      <td>NaN</td>\n",
       "      <td>NaN</td>\n",
       "      <td>NaN</td>\n",
       "      <td>NaN</td>\n",
       "      <td>NaN</td>\n",
       "      <td>NaN</td>\n",
       "    </tr>\n",
       "    <tr>\n",
       "      <th>expirationDateKeyInMatch</th>\n",
       "      <td>786363</td>\n",
       "      <td>2</td>\n",
       "      <td>False</td>\n",
       "      <td>785320</td>\n",
       "      <td>NaN</td>\n",
       "      <td>NaN</td>\n",
       "      <td>NaN</td>\n",
       "      <td>NaN</td>\n",
       "      <td>NaN</td>\n",
       "      <td>NaN</td>\n",
       "      <td>NaN</td>\n",
       "    </tr>\n",
       "    <tr>\n",
       "      <th>isFraud</th>\n",
       "      <td>786363</td>\n",
       "      <td>2</td>\n",
       "      <td>False</td>\n",
       "      <td>773946</td>\n",
       "      <td>NaN</td>\n",
       "      <td>NaN</td>\n",
       "      <td>NaN</td>\n",
       "      <td>NaN</td>\n",
       "      <td>NaN</td>\n",
       "      <td>NaN</td>\n",
       "      <td>NaN</td>\n",
       "    </tr>\n",
       "  </tbody>\n",
       "</table>\n",
       "</div>"
      ],
      "text/plain": [
       "                           count  unique                  top    freq  \\\n",
       "accountNumber             786363     NaN                  NaN     NaN   \n",
       "customerId                786363     NaN                  NaN     NaN   \n",
       "creditLimit               786363     NaN                  NaN     NaN   \n",
       "availableMoney            786363     NaN                  NaN     NaN   \n",
       "transactionDateTime       786363  776637  2016-05-28T14:24:41       4   \n",
       "transactionAmount         786363     NaN                  NaN     NaN   \n",
       "merchantName              786363    2490                 Uber   25613   \n",
       "acqCountry                781801       4                   US  774709   \n",
       "merchantCountryCode       785639       4                   US  778511   \n",
       "posEntryMode              782309     NaN                  NaN     NaN   \n",
       "posConditionCode          785954     NaN                  NaN     NaN   \n",
       "merchantCategoryCode      786363      19        online_retail  202156   \n",
       "currentExpDate            786363     165              03/2029    5103   \n",
       "accountOpenDate           786363    1820           2014-06-21   33623   \n",
       "dateOfLastAddressChange   786363    2184           2016-03-15    3819   \n",
       "cardCVV                   786363     NaN                  NaN     NaN   \n",
       "enteredCVV                786363     NaN                  NaN     NaN   \n",
       "cardLast4Digits           786363     NaN                  NaN     NaN   \n",
       "transactionType           785665       3             PURCHASE  745193   \n",
       "echoBuffer                     0     NaN                  NaN     NaN   \n",
       "currentBalance            786363     NaN                  NaN     NaN   \n",
       "merchantCity                   0     NaN                  NaN     NaN   \n",
       "merchantState                  0     NaN                  NaN     NaN   \n",
       "merchantZip                    0     NaN                  NaN     NaN   \n",
       "cardPresent               786363       2                False  433495   \n",
       "posOnPremises                  0     NaN                  NaN     NaN   \n",
       "recurringAuthInd               0     NaN                  NaN     NaN   \n",
       "expirationDateKeyInMatch  786363       2                False  785320   \n",
       "isFraud                   786363       2                False  773946   \n",
       "\n",
       "                                 mean          std          min          25%  \\\n",
       "accountNumber             5.37233e+08  2.55421e+08  1.00088e+08  3.30133e+08   \n",
       "customerId                5.37233e+08  2.55421e+08  1.00088e+08  3.30133e+08   \n",
       "creditLimit                   10759.5      11636.2          250         5000   \n",
       "availableMoney                6250.73      8880.78     -1005.63      1077.42   \n",
       "transactionDateTime               NaN          NaN          NaN          NaN   \n",
       "transactionAmount             136.986      147.726            0        33.65   \n",
       "merchantName                      NaN          NaN          NaN          NaN   \n",
       "acqCountry                        NaN          NaN          NaN          NaN   \n",
       "merchantCountryCode               NaN          NaN          NaN          NaN   \n",
       "posEntryMode                  9.04994      16.7741            2            2   \n",
       "posConditionCode              3.27198      9.80902            1            1   \n",
       "merchantCategoryCode              NaN          NaN          NaN          NaN   \n",
       "currentExpDate                    NaN          NaN          NaN          NaN   \n",
       "accountOpenDate                   NaN          NaN          NaN          NaN   \n",
       "dateOfLastAddressChange           NaN          NaN          NaN          NaN   \n",
       "cardCVV                       544.467      261.524          100          310   \n",
       "enteredCVV                    544.184      261.551            0          310   \n",
       "cardLast4Digits               4757.42      2996.58            0         2178   \n",
       "transactionType                   NaN          NaN          NaN          NaN   \n",
       "echoBuffer                        NaN          NaN          NaN          NaN   \n",
       "currentBalance                4508.74      6457.44            0       689.91   \n",
       "merchantCity                      NaN          NaN          NaN          NaN   \n",
       "merchantState                     NaN          NaN          NaN          NaN   \n",
       "merchantZip                       NaN          NaN          NaN          NaN   \n",
       "cardPresent                       NaN          NaN          NaN          NaN   \n",
       "posOnPremises                     NaN          NaN          NaN          NaN   \n",
       "recurringAuthInd                  NaN          NaN          NaN          NaN   \n",
       "expirationDateKeyInMatch          NaN          NaN          NaN          NaN   \n",
       "isFraud                           NaN          NaN          NaN          NaN   \n",
       "\n",
       "                                  50%         75%         max  \n",
       "accountNumber             5.07456e+08  7.6762e+08  9.9939e+08  \n",
       "customerId                5.07456e+08  7.6762e+08  9.9939e+08  \n",
       "creditLimit                      7500       15000       50000  \n",
       "availableMoney                3184.86        7500       50000  \n",
       "transactionDateTime               NaN         NaN         NaN  \n",
       "transactionAmount                87.9      191.48     2011.54  \n",
       "merchantName                      NaN         NaN         NaN  \n",
       "acqCountry                        NaN         NaN         NaN  \n",
       "merchantCountryCode               NaN         NaN         NaN  \n",
       "posEntryMode                        5           9          90  \n",
       "posConditionCode                    1           1          99  \n",
       "merchantCategoryCode              NaN         NaN         NaN  \n",
       "currentExpDate                    NaN         NaN         NaN  \n",
       "accountOpenDate                   NaN         NaN         NaN  \n",
       "dateOfLastAddressChange           NaN         NaN         NaN  \n",
       "cardCVV                           535         785         998  \n",
       "enteredCVV                        535         785         998  \n",
       "cardLast4Digits                  4733        7338        9998  \n",
       "transactionType                   NaN         NaN         NaN  \n",
       "echoBuffer                        NaN         NaN         NaN  \n",
       "currentBalance                2451.76      5291.1     47498.8  \n",
       "merchantCity                      NaN         NaN         NaN  \n",
       "merchantState                     NaN         NaN         NaN  \n",
       "merchantZip                       NaN         NaN         NaN  \n",
       "cardPresent                       NaN         NaN         NaN  \n",
       "posOnPremises                     NaN         NaN         NaN  \n",
       "recurringAuthInd                  NaN         NaN         NaN  \n",
       "expirationDateKeyInMatch          NaN         NaN         NaN  \n",
       "isFraud                           NaN         NaN         NaN  "
      ]
     },
     "execution_count": 10,
     "metadata": {},
     "output_type": "execute_result"
    }
   ],
   "source": [
    "df.describe(include = \"all\").T"
   ]
  },
  {
   "cell_type": "code",
   "execution_count": 11,
   "metadata": {},
   "outputs": [
    {
     "data": {
      "text/plain": [
       "accountNumber                 5000\n",
       "customerId                    5000\n",
       "creditLimit                     10\n",
       "availableMoney              521862\n",
       "transactionDateTime         776637\n",
       "transactionAmount            66038\n",
       "merchantName                  2490\n",
       "acqCountry                       4\n",
       "merchantCountryCode              4\n",
       "posEntryMode                     5\n",
       "posConditionCode                 3\n",
       "merchantCategoryCode            19\n",
       "currentExpDate                 165\n",
       "accountOpenDate               1820\n",
       "dateOfLastAddressChange       2184\n",
       "cardCVV                        899\n",
       "enteredCVV                     976\n",
       "cardLast4Digits               5245\n",
       "transactionType                  3\n",
       "echoBuffer                       0\n",
       "currentBalance              487318\n",
       "merchantCity                     0\n",
       "merchantState                    0\n",
       "merchantZip                      0\n",
       "cardPresent                      2\n",
       "posOnPremises                    0\n",
       "recurringAuthInd                 0\n",
       "expirationDateKeyInMatch         2\n",
       "isFraud                          2\n",
       "dtype: int64"
      ]
     },
     "execution_count": 11,
     "metadata": {},
     "output_type": "execute_result"
    }
   ],
   "source": [
    "df.nunique()"
   ]
  },
  {
   "cell_type": "markdown",
   "metadata": {},
   "source": [
    "Let's see what countries we have accounts in and what the frequency is in each country"
   ]
  },
  {
   "cell_type": "code",
   "execution_count": 12,
   "metadata": {},
   "outputs": [
    {
     "data": {
      "text/plain": [
       "US     774709\n",
       "MEX      3130\n",
       "CAN      2424\n",
       "PR       1538\n",
       "Name: acqCountry, dtype: int64"
      ]
     },
     "execution_count": 12,
     "metadata": {},
     "output_type": "execute_result"
    }
   ],
   "source": [
    "pd.value_counts(df[\"acqCountry\"])\n",
    "#looks for the different types of records in acqCountry and counts how many records have this type"
   ]
  },
  {
   "cell_type": "markdown",
   "metadata": {},
   "source": [
    "# Data Cleaning\n",
    "\n",
    "Converting all empty string to NA in column of type string"
   ]
  },
  {
   "cell_type": "code",
   "execution_count": 13,
   "metadata": {},
   "outputs": [],
   "source": [
    "df.replace(r'^\\s*$', np.nan, regex=True, inplace = True)"
   ]
  },
  {
   "cell_type": "markdown",
   "metadata": {},
   "source": [
    "Dropping echoBuffer, merchantCity, merchantState, merchantZip, posOnPremises and recurringAuthInd since these have all observations missing."
   ]
  },
  {
   "cell_type": "code",
   "execution_count": 14,
   "metadata": {},
   "outputs": [],
   "source": [
    "df.drop([\"echoBuffer\", \"merchantCity\", \"merchantState\", \"merchantZip\", \"posOnPremises\", \"recurringAuthInd\"], axis=1, inplace=True)"
   ]
  },
  {
   "cell_type": "markdown",
   "metadata": {},
   "source": [
    "Changing date column to date data type."
   ]
  },
  {
   "cell_type": "code",
   "execution_count": 15,
   "metadata": {},
   "outputs": [],
   "source": [
    "df[[\"transactionDateTime\", \"currentExpDate\", \"accountOpenDate\", \"dateOfLastAddressChange\"]] = df[[\"transactionDateTime\", \"currentExpDate\", \"accountOpenDate\", \"dateOfLastAddressChange\"]].apply(pd.to_datetime)"
   ]
  },
  {
   "cell_type": "markdown",
   "metadata": {},
   "source": [
    "Converting some string column to categories type"
   ]
  },
  {
   "cell_type": "code",
   "execution_count": 16,
   "metadata": {},
   "outputs": [],
   "source": [
    "cols = ['acqCountry', 'merchantCountryCode', 'posEntryMode', 'posConditionCode','merchantCategoryCode']\n",
    "df[cols] = df[cols].astype('category')"
   ]
  },
  {
   "cell_type": "markdown",
   "metadata": {},
   "source": [
    "## Write up\n",
    "### In conclusion we have 786363 records from 5000 account holders and we are looking at 29 fields, we looked at overall information on the fields. We are missing some information on account country, merchant country code, posEntryMode, posConditionCode, and transaction type. We have no information for merchant's City, merchant's State, merchant's zipcode, posOnPremises, and recurringAuthInd. The rest of our fields we have no null values. We looked into one field in depth out of curiousity and found some interesting information. We saw that we have accounts in Mexico(3130), Canada(2424), and Puerto Rico(1538), but of course the majority of our accounts are in the US(774709) as a US based company."
   ]
  },
  {
   "cell_type": "markdown",
   "metadata": {},
   "source": [
    "# Question 2: Plot\n",
    "\n",
    "•Plot a histogram of the processed amounts of each transaction, the transactionAmount column.\n",
    "\n",
    "•Report any structure you find and any hypotheses you have about that structure."
   ]
  },
  {
   "cell_type": "markdown",
   "metadata": {},
   "source": [
    "Visualizing distribution of Transaction Amount"
   ]
  },
  {
   "cell_type": "code",
   "execution_count": 17,
   "metadata": {},
   "outputs": [
    {
     "data": {
      "image/png": "[encoded data removed]",
      "text/plain": [
       "<Figure size 640x480 with 1 Axes>"
      ]
     },
     "metadata": {
      "needs_background": "light"
     },
     "output_type": "display_data"
    },
    {
     "data": {
      "text/plain": [
       "<ggplot: (8769300425256)>"
      ]
     },
     "execution_count": 17,
     "metadata": {},
     "output_type": "execute_result"
    }
   ],
   "source": [
    "(ggplot(df,aes('transactionAmount')) +\n",
    "  geom_histogram(binwidth = 50)+\n",
    "  labs(\n",
    "    title = \"Histogram of Transaction Amount\",\n",
    "    x = \"Amount($)\",\n",
    "    y = \"Freq\"\n",
    "  )+\n",
    "  theme_minimal())"
   ]
  },
  {
   "cell_type": "markdown",
   "metadata": {},
   "source": [
    "Here most of the transaction lies below $100 and the distribution is positively skewed."
   ]
  },
  {
   "cell_type": "code",
   "execution_count": 18,
   "metadata": {},
   "outputs": [
    {
     "data": {
      "image/png": "[encoded data removed]",
      "text/plain": [
       "<Figure size 640x480 with 1 Axes>"
      ]
     },
     "metadata": {
      "needs_background": "light"
     },
     "output_type": "display_data"
    },
    {
     "data": {
      "text/plain": [
       "<ggplot: (8769527548742)>"
      ]
     },
     "execution_count": 18,
     "metadata": {},
     "output_type": "execute_result"
    }
   ],
   "source": [
    "median_val = df.transactionAmount.median() \n",
    "text = \"median = \" + str(median_val)\n",
    "(ggplot(df,aes('transactionAmount')) +\n",
    "  geom_histogram(binwidth = 50)+\n",
    "  labs(\n",
    "    title = \"Histogram of Transaction Amount\",\n",
    "    x = \"Amount($)\",\n",
    "    y = \"Freq\"\n",
    "  )+\n",
    "  geom_vline(xintercept = median_val, color=\"red\")+\n",
    "  annotate(\"text\",x=300,y=150000,label=text)+\n",
    "  theme_minimal())"
   ]
  },
  {
   "cell_type": "markdown",
   "metadata": {},
   "source": [
    "This distribution looks like a log normal distribution."
   ]
  },
  {
   "cell_type": "code",
   "execution_count": 19,
   "metadata": {
    "scrolled": false
   },
   "outputs": [
    {
     "data": {
      "image/png": "[encoded data removed]",
      "text/plain": [
       "<Figure size 640x480 with 1 Axes>"
      ]
     },
     "metadata": {
      "needs_background": "light"
     },
     "output_type": "display_data"
    },
    {
     "data": {
      "text/plain": [
       "<ggplot: (8769527525130)>"
      ]
     },
     "execution_count": 19,
     "metadata": {},
     "output_type": "execute_result"
    }
   ],
   "source": [
    "df_transac = df[['transactionAmount']].apply(np.log10)\n",
    "df_transac.replace([np.inf, -np.inf], np.nan, inplace=True)\n",
    "df_transac.dropna(inplace=True)\n",
    "\n",
    "(ggplot(df_transac,aes('transactionAmount')) +\n",
    "  geom_histogram(bins=50)+\n",
    "  labs(\n",
    "    title = \"Histogram of Transaction Amount\",\n",
    "    x = \"Amount($) in log10 scale\",\n",
    "    y = \"Freq\"\n",
    "  )+\n",
    "  theme_minimal())"
   ]
  },
  {
   "cell_type": "markdown",
   "metadata": {},
   "source": [
    "## Write up\n",
    "### In conclusion the shape of the histogram is skewed right which makes sense since people make smaller purchaces on a more frequent basis than large payments. Now that carrying cash has become less common for people in and above lower middle class people use credit cards everyday on a normal basis. I would hypothesize that if we kept looking at lower purchases this general trend of skewness would stay but that the shape would change and the bars would become more level to eachother."
   ]
  },
  {
   "cell_type": "markdown",
   "metadata": {},
   "source": [
    "# Question 3: Data Wrangling - Duplicate Transactions\n",
    "\n",
    "You will notice a number of what look like duplicated transactions in the data set. One type of duplicated transaction is a reversed transaction, where a purchase is followed by a reversal. Another example is a multi-swipe, where a vendor accidentally charges a customer's card multiple times within a short time span.\n",
    "\n",
    "•Can you programmatically identify reversed and multi-swipe transactions?\n",
    "\n",
    "•What total number of transactions and total dollar amount do you estimate for the reversed transactions? For the multi-swipe transactions? (please consider the first transaction to be \"normal\" and exclude it from the number of transaction and dollar amount counts)\n",
    "\n",
    "•Did you find anything interesting about either kind of transaction?\n",
    "\n"
   ]
  },
  {
   "cell_type": "markdown",
   "metadata": {},
   "source": [
    "# Data Wrangling\n",
    "\n",
    "## Reversed Transaction\n",
    "Looking into Purchased and Reversed pairs of transaction(ordered by datetime) per customer.  \n",
    "Here I am grouping the dataset by customer id and checking if transaction type matches with its lagged version."
   ]
  },
  {
   "cell_type": "code",
   "execution_count": 20,
   "metadata": {},
   "outputs": [
    {
     "data": {
      "text/html": [
       "<div>\n",
       "<style scoped>\n",
       "    .dataframe tbody tr th:only-of-type {\n",
       "        vertical-align: middle;\n",
       "    }\n",
       "\n",
       "    .dataframe tbody tr th {\n",
       "        vertical-align: top;\n",
       "    }\n",
       "\n",
       "    .dataframe thead th {\n",
       "        text-align: right;\n",
       "    }\n",
       "</style>\n",
       "<table border=\"1\" class=\"dataframe\">\n",
       "  <thead>\n",
       "    <tr style=\"text-align: right;\">\n",
       "      <th></th>\n",
       "      <th>accountNumber</th>\n",
       "      <th>transactionDateTime</th>\n",
       "      <th>transactionAmount</th>\n",
       "      <th>transactionType</th>\n",
       "    </tr>\n",
       "  </thead>\n",
       "  <tbody>\n",
       "    <tr>\n",
       "      <th>541963</th>\n",
       "      <td>100088067</td>\n",
       "      <td>2016-11-20 07:57:05</td>\n",
       "      <td>22.32</td>\n",
       "      <td>PURCHASE</td>\n",
       "    </tr>\n",
       "    <tr>\n",
       "      <th>541964</th>\n",
       "      <td>100088067</td>\n",
       "      <td>2016-11-20 08:00:04</td>\n",
       "      <td>22.32</td>\n",
       "      <td>REVERSAL</td>\n",
       "    </tr>\n",
       "    <tr>\n",
       "      <th>87919</th>\n",
       "      <td>100328049</td>\n",
       "      <td>2016-01-15 20:34:35</td>\n",
       "      <td>43.74</td>\n",
       "      <td>PURCHASE</td>\n",
       "    </tr>\n",
       "    <tr>\n",
       "      <th>87920</th>\n",
       "      <td>100328049</td>\n",
       "      <td>2016-01-15 20:36:18</td>\n",
       "      <td>43.74</td>\n",
       "      <td>REVERSAL</td>\n",
       "    </tr>\n",
       "    <tr>\n",
       "      <th>87935</th>\n",
       "      <td>100328049</td>\n",
       "      <td>2016-03-24 22:57:15</td>\n",
       "      <td>284.97</td>\n",
       "      <td>PURCHASE</td>\n",
       "    </tr>\n",
       "    <tr>\n",
       "      <th>87936</th>\n",
       "      <td>100328049</td>\n",
       "      <td>2016-03-26 17:35:09</td>\n",
       "      <td>284.97</td>\n",
       "      <td>REVERSAL</td>\n",
       "    </tr>\n",
       "    <tr>\n",
       "      <th>151498</th>\n",
       "      <td>100737756</td>\n",
       "      <td>2016-06-05 20:44:58</td>\n",
       "      <td>130.49</td>\n",
       "      <td>PURCHASE</td>\n",
       "    </tr>\n",
       "    <tr>\n",
       "      <th>151499</th>\n",
       "      <td>100737756</td>\n",
       "      <td>2016-06-06 22:56:52</td>\n",
       "      <td>93.67</td>\n",
       "      <td>REVERSAL</td>\n",
       "    </tr>\n",
       "    <tr>\n",
       "      <th>151540</th>\n",
       "      <td>100737756</td>\n",
       "      <td>2016-08-24 05:27:01</td>\n",
       "      <td>57.94</td>\n",
       "      <td>PURCHASE</td>\n",
       "    </tr>\n",
       "    <tr>\n",
       "      <th>151541</th>\n",
       "      <td>100737756</td>\n",
       "      <td>2016-08-24 20:21:19</td>\n",
       "      <td>501.29</td>\n",
       "      <td>REVERSAL</td>\n",
       "    </tr>\n",
       "  </tbody>\n",
       "</table>\n",
       "</div>"
      ],
      "text/plain": [
       "        accountNumber transactionDateTime  transactionAmount transactionType\n",
       "541963      100088067 2016-11-20 07:57:05              22.32        PURCHASE\n",
       "541964      100088067 2016-11-20 08:00:04              22.32        REVERSAL\n",
       "87919       100328049 2016-01-15 20:34:35              43.74        PURCHASE\n",
       "87920       100328049 2016-01-15 20:36:18              43.74        REVERSAL\n",
       "87935       100328049 2016-03-24 22:57:15             284.97        PURCHASE\n",
       "87936       100328049 2016-03-26 17:35:09             284.97        REVERSAL\n",
       "151498      100737756 2016-06-05 20:44:58             130.49        PURCHASE\n",
       "151499      100737756 2016-06-06 22:56:52              93.67        REVERSAL\n",
       "151540      100737756 2016-08-24 05:27:01              57.94        PURCHASE\n",
       "151541      100737756 2016-08-24 20:21:19             501.29        REVERSAL"
      ]
     },
     "execution_count": 20,
     "metadata": {},
     "output_type": "execute_result"
    }
   ],
   "source": [
    "def func(df):\n",
    "    df[\"not_matched\"] = (df[\"transactionType\"] != df[\"transactionType\"].shift(-1,fill_value=\"PURCHASE\"))\n",
    "    return df\n",
    "\n",
    "df_rev = df[((df.transactionType == \"PURCHASE\") | (df.transactionType == \"REVERSAL\"))].\\\n",
    "            sort_values([\"customerId\", \"transactionDateTime\"])\n",
    "\n",
    "df_rev = df_rev[df_rev[[\"customerId\",\"transactionType\"]].\\\n",
    "                   groupby([\"customerId\"]).\\\n",
    "                   apply(func).not_matched]\n",
    "\n",
    "df_rev[[\"accountNumber\",\"transactionDateTime\",\"transactionAmount\", \"transactionType\"]].head(10)"
   ]
  },
  {
   "cell_type": "markdown",
   "metadata": {},
   "source": [
    "Not all Purchased and Reversed pairs are actually Reversed Transaction. So,  \n",
    "For a transaction to be reversed, a normal purchase should be followed by a reversed and both should have same transaction amount."
   ]
  },
  {
   "cell_type": "code",
   "execution_count": 21,
   "metadata": {},
   "outputs": [],
   "source": [
    "def func(df):\n",
    "    df[\"avg_ammount\"] = df[\"transactionAmount\"].mean()\n",
    "    return df\n",
    "\n",
    "df_rev_eq = df_rev.copy().reset_index()\n",
    "df_rev_eq[\"pair_id\"] = df_rev_eq.index//2\n",
    "\n",
    "df_rev_eq = df_rev_eq.groupby([\"customerId\", \"pair_id\"]).apply(func)\n",
    "df_rev_eq = df_rev_eq[(df_rev_eq.transactionAmount == df_rev_eq.avg_ammount)]"
   ]
  },
  {
   "cell_type": "code",
   "execution_count": 22,
   "metadata": {},
   "outputs": [
    {
     "data": {
      "text/html": [
       "<div>\n",
       "<style scoped>\n",
       "    .dataframe tbody tr th:only-of-type {\n",
       "        vertical-align: middle;\n",
       "    }\n",
       "\n",
       "    .dataframe tbody tr th {\n",
       "        vertical-align: top;\n",
       "    }\n",
       "\n",
       "    .dataframe thead th {\n",
       "        text-align: right;\n",
       "    }\n",
       "</style>\n",
       "<table border=\"1\" class=\"dataframe\">\n",
       "  <thead>\n",
       "    <tr style=\"text-align: right;\">\n",
       "      <th></th>\n",
       "      <th>accountNumber</th>\n",
       "      <th>transactionDateTime</th>\n",
       "      <th>transactionAmount</th>\n",
       "      <th>transactionType</th>\n",
       "    </tr>\n",
       "  </thead>\n",
       "  <tbody>\n",
       "    <tr>\n",
       "      <th>0</th>\n",
       "      <td>100088067</td>\n",
       "      <td>2016-11-20 07:57:05</td>\n",
       "      <td>22.32</td>\n",
       "      <td>PURCHASE</td>\n",
       "    </tr>\n",
       "    <tr>\n",
       "      <th>1</th>\n",
       "      <td>100088067</td>\n",
       "      <td>2016-11-20 08:00:04</td>\n",
       "      <td>22.32</td>\n",
       "      <td>REVERSAL</td>\n",
       "    </tr>\n",
       "    <tr>\n",
       "      <th>2</th>\n",
       "      <td>100328049</td>\n",
       "      <td>2016-01-15 20:34:35</td>\n",
       "      <td>43.74</td>\n",
       "      <td>PURCHASE</td>\n",
       "    </tr>\n",
       "    <tr>\n",
       "      <th>3</th>\n",
       "      <td>100328049</td>\n",
       "      <td>2016-01-15 20:36:18</td>\n",
       "      <td>43.74</td>\n",
       "      <td>REVERSAL</td>\n",
       "    </tr>\n",
       "    <tr>\n",
       "      <th>4</th>\n",
       "      <td>100328049</td>\n",
       "      <td>2016-03-24 22:57:15</td>\n",
       "      <td>284.97</td>\n",
       "      <td>PURCHASE</td>\n",
       "    </tr>\n",
       "    <tr>\n",
       "      <th>5</th>\n",
       "      <td>100328049</td>\n",
       "      <td>2016-03-26 17:35:09</td>\n",
       "      <td>284.97</td>\n",
       "      <td>REVERSAL</td>\n",
       "    </tr>\n",
       "    <tr>\n",
       "      <th>12</th>\n",
       "      <td>101376441</td>\n",
       "      <td>2016-07-05 15:03:41</td>\n",
       "      <td>96.63</td>\n",
       "      <td>PURCHASE</td>\n",
       "    </tr>\n",
       "    <tr>\n",
       "      <th>13</th>\n",
       "      <td>101376441</td>\n",
       "      <td>2016-07-12 00:44:32</td>\n",
       "      <td>96.63</td>\n",
       "      <td>REVERSAL</td>\n",
       "    </tr>\n",
       "    <tr>\n",
       "      <th>26</th>\n",
       "      <td>101596991</td>\n",
       "      <td>2016-12-30 19:49:59</td>\n",
       "      <td>294.01</td>\n",
       "      <td>PURCHASE</td>\n",
       "    </tr>\n",
       "    <tr>\n",
       "      <th>27</th>\n",
       "      <td>101596991</td>\n",
       "      <td>2016-12-30 19:50:06</td>\n",
       "      <td>294.01</td>\n",
       "      <td>REVERSAL</td>\n",
       "    </tr>\n",
       "  </tbody>\n",
       "</table>\n",
       "</div>"
      ],
      "text/plain": [
       "    accountNumber transactionDateTime  transactionAmount transactionType\n",
       "0       100088067 2016-11-20 07:57:05              22.32        PURCHASE\n",
       "1       100088067 2016-11-20 08:00:04              22.32        REVERSAL\n",
       "2       100328049 2016-01-15 20:34:35              43.74        PURCHASE\n",
       "3       100328049 2016-01-15 20:36:18              43.74        REVERSAL\n",
       "4       100328049 2016-03-24 22:57:15             284.97        PURCHASE\n",
       "5       100328049 2016-03-26 17:35:09             284.97        REVERSAL\n",
       "12      101376441 2016-07-05 15:03:41              96.63        PURCHASE\n",
       "13      101376441 2016-07-12 00:44:32              96.63        REVERSAL\n",
       "26      101596991 2016-12-30 19:49:59             294.01        PURCHASE\n",
       "27      101596991 2016-12-30 19:50:06             294.01        REVERSAL"
      ]
     },
     "execution_count": 22,
     "metadata": {},
     "output_type": "execute_result"
    }
   ],
   "source": [
    "df_rev_eq[[\"accountNumber\",\"transactionDateTime\",\"transactionAmount\", \"transactionType\"]].head(10)"
   ]
  },
  {
   "cell_type": "markdown",
   "metadata": {},
   "source": [
    "So total reversal amount and count is"
   ]
  },
  {
   "cell_type": "code",
   "execution_count": 23,
   "metadata": {},
   "outputs": [
    {
     "name": "stdout",
     "output_type": "stream",
     "text": [
      "total reversal amount 772545.4\n",
      "total reversal count 5219\n"
     ]
    }
   ],
   "source": [
    "print(\"total reversal amount\",df_rev_eq[df_rev_eq.transactionType == \"REVERSAL\"].transactionAmount.sum())\n",
    "print(\"total reversal count\",df_rev_eq[df_rev_eq.transactionType == \"REVERSAL\"].transactionAmount.count())"
   ]
  },
  {
   "cell_type": "markdown",
   "metadata": {},
   "source": [
    "Removing all Purchased and Reversed pairs"
   ]
  },
  {
   "cell_type": "code",
   "execution_count": 24,
   "metadata": {},
   "outputs": [],
   "source": [
    "df_rev_eq.drop(['avg_ammount', 'pair_id'], axis=1, inplace=True)\n",
    "df = anti_join_all_cols(df, df_rev)"
   ]
  },
  {
   "cell_type": "markdown",
   "metadata": {},
   "source": [
    "## Multi-swipe Transaction\n",
    "A transaction is multi-swiped if the same transaction occurs multiple times but in a short duration. I am assuming a short duration to be 10 minutes.  \n",
    "Here I am creating a attribute date_index which is the 10minute floor of transactionDateTime. If 'customerId', 'date_index','transactionAmount' and 'merchantName' all matches then the trasaction is multi-swipe."
   ]
  },
  {
   "cell_type": "code",
   "execution_count": 25,
   "metadata": {},
   "outputs": [],
   "source": [
    "def func(df):\n",
    "    return df.drop_duplicates(['transactionAmount', 'merchantName'])\n",
    "\n",
    "df_multi_all = df.copy()\n",
    "df_multi_all['date_index'] = df.transactionDateTime.dt.floor(\"600S\")\n",
    "df_multi_all = df_multi_all.drop_duplicates(['customerId', 'date_index','transactionAmount', 'merchantName'], keep=False)\n",
    "df_multi_all = anti_join_all_cols(df, df_multi_all.drop(['date_index'], axis=1))"
   ]
  },
  {
   "cell_type": "code",
   "execution_count": 26,
   "metadata": {},
   "outputs": [
    {
     "data": {
      "text/html": [
       "<div>\n",
       "<style scoped>\n",
       "    .dataframe tbody tr th:only-of-type {\n",
       "        vertical-align: middle;\n",
       "    }\n",
       "\n",
       "    .dataframe tbody tr th {\n",
       "        vertical-align: top;\n",
       "    }\n",
       "\n",
       "    .dataframe thead th {\n",
       "        text-align: right;\n",
       "    }\n",
       "</style>\n",
       "<table border=\"1\" class=\"dataframe\">\n",
       "  <thead>\n",
       "    <tr style=\"text-align: right;\">\n",
       "      <th></th>\n",
       "      <th>accountNumber</th>\n",
       "      <th>transactionDateTime</th>\n",
       "      <th>transactionAmount</th>\n",
       "    </tr>\n",
       "  </thead>\n",
       "  <tbody>\n",
       "    <tr>\n",
       "      <th>514396</th>\n",
       "      <td>100088067</td>\n",
       "      <td>2016-10-16 18:01:00</td>\n",
       "      <td>411.35</td>\n",
       "    </tr>\n",
       "    <tr>\n",
       "      <th>514397</th>\n",
       "      <td>100088067</td>\n",
       "      <td>2016-10-16 18:01:02</td>\n",
       "      <td>411.35</td>\n",
       "    </tr>\n",
       "    <tr>\n",
       "      <th>143905</th>\n",
       "      <td>100737756</td>\n",
       "      <td>2016-01-18 01:55:24</td>\n",
       "      <td>693.50</td>\n",
       "    </tr>\n",
       "    <tr>\n",
       "      <th>143906</th>\n",
       "      <td>100737756</td>\n",
       "      <td>2016-01-18 01:55:28</td>\n",
       "      <td>693.50</td>\n",
       "    </tr>\n",
       "    <tr>\n",
       "      <th>143907</th>\n",
       "      <td>100737756</td>\n",
       "      <td>2016-01-18 01:58:26</td>\n",
       "      <td>693.50</td>\n",
       "    </tr>\n",
       "    <tr>\n",
       "      <th>143989</th>\n",
       "      <td>100737756</td>\n",
       "      <td>2016-07-02 12:05:04</td>\n",
       "      <td>211.22</td>\n",
       "    </tr>\n",
       "    <tr>\n",
       "      <th>143990</th>\n",
       "      <td>100737756</td>\n",
       "      <td>2016-07-02 12:07:00</td>\n",
       "      <td>211.22</td>\n",
       "    </tr>\n",
       "    <tr>\n",
       "      <th>143994</th>\n",
       "      <td>100737756</td>\n",
       "      <td>2016-07-10 14:31:07</td>\n",
       "      <td>43.25</td>\n",
       "    </tr>\n",
       "    <tr>\n",
       "      <th>143995</th>\n",
       "      <td>100737756</td>\n",
       "      <td>2016-07-10 14:32:06</td>\n",
       "      <td>43.25</td>\n",
       "    </tr>\n",
       "    <tr>\n",
       "      <th>209050</th>\n",
       "      <td>101132326</td>\n",
       "      <td>2016-08-24 02:09:08</td>\n",
       "      <td>188.86</td>\n",
       "    </tr>\n",
       "    <tr>\n",
       "      <th>209051</th>\n",
       "      <td>101132326</td>\n",
       "      <td>2016-08-24 02:09:44</td>\n",
       "      <td>188.86</td>\n",
       "    </tr>\n",
       "    <tr>\n",
       "      <th>2838</th>\n",
       "      <td>101380713</td>\n",
       "      <td>2016-03-13 12:01:27</td>\n",
       "      <td>29.28</td>\n",
       "    </tr>\n",
       "    <tr>\n",
       "      <th>2839</th>\n",
       "      <td>101380713</td>\n",
       "      <td>2016-03-13 12:03:55</td>\n",
       "      <td>29.28</td>\n",
       "    </tr>\n",
       "    <tr>\n",
       "      <th>2873</th>\n",
       "      <td>101380713</td>\n",
       "      <td>2016-07-23 06:53:44</td>\n",
       "      <td>33.74</td>\n",
       "    </tr>\n",
       "    <tr>\n",
       "      <th>2874</th>\n",
       "      <td>101380713</td>\n",
       "      <td>2016-07-23 06:56:15</td>\n",
       "      <td>33.74</td>\n",
       "    </tr>\n",
       "  </tbody>\n",
       "</table>\n",
       "</div>"
      ],
      "text/plain": [
       "        accountNumber transactionDateTime  transactionAmount\n",
       "514396      100088067 2016-10-16 18:01:00             411.35\n",
       "514397      100088067 2016-10-16 18:01:02             411.35\n",
       "143905      100737756 2016-01-18 01:55:24             693.50\n",
       "143906      100737756 2016-01-18 01:55:28             693.50\n",
       "143907      100737756 2016-01-18 01:58:26             693.50\n",
       "143989      100737756 2016-07-02 12:05:04             211.22\n",
       "143990      100737756 2016-07-02 12:07:00             211.22\n",
       "143994      100737756 2016-07-10 14:31:07              43.25\n",
       "143995      100737756 2016-07-10 14:32:06              43.25\n",
       "209050      101132326 2016-08-24 02:09:08             188.86\n",
       "209051      101132326 2016-08-24 02:09:44             188.86\n",
       "2838        101380713 2016-03-13 12:01:27              29.28\n",
       "2839        101380713 2016-03-13 12:03:55              29.28\n",
       "2873        101380713 2016-07-23 06:53:44              33.74\n",
       "2874        101380713 2016-07-23 06:56:15              33.74"
      ]
     },
     "execution_count": 26,
     "metadata": {},
     "output_type": "execute_result"
    }
   ],
   "source": [
    "df_multi_all[[\"accountNumber\",\"transactionDateTime\",\"transactionAmount\"]].\\\n",
    "        sort_values([\"accountNumber\", \"transactionDateTime\"]).\\\n",
    "        head(15)"
   ]
  },
  {
   "cell_type": "markdown",
   "metadata": {},
   "source": [
    "Total number of transactions and total dollar amount for the multi-swipe transactions"
   ]
  },
  {
   "cell_type": "code",
   "execution_count": 27,
   "metadata": {},
   "outputs": [
    {
     "name": "stdout",
     "output_type": "stream",
     "text": [
      "total multi-swipe amount 910037.8699999999\n",
      "total multi-swipe count 6288\n"
     ]
    }
   ],
   "source": [
    "# Considering First transaction to be normal\n",
    "df_multi_normal = df_multi_all.copy()\n",
    "df_multi_normal['date_index'] = df_multi_normal.transactionDateTime.dt.floor(\"600S\")\n",
    "\n",
    "df_multi_normal = df_multi_normal.drop_duplicates(['customerId', 'date_index','transactionAmount', 'merchantName'])\n",
    "\n",
    "df_multi = anti_join_all_cols(df_multi_all, df_multi_normal.drop(['date_index'], axis=1))\n",
    "\n",
    "print(\"total multi-swipe amount\",df_multi.transactionAmount.sum())\n",
    "print(\"total multi-swipe count\",df_multi.transactionAmount.count())"
   ]
  },
  {
   "cell_type": "markdown",
   "metadata": {},
   "source": [
    "Removing all Multi-swipe transactions"
   ]
  },
  {
   "cell_type": "code",
   "execution_count": 28,
   "metadata": {},
   "outputs": [],
   "source": [
    "df = anti_join_all_cols(df, df_multi_all)"
   ]
  },
  {
   "cell_type": "markdown",
   "metadata": {},
   "source": [
    "## Write up\n",
    "### In conclusion we can see that the total dollar amount in Multi-swipe transactions is higher which makes sense since reversals are duplicated once while multi-swipe can be duplicated more than once. I found it interesting to see that there were so many counts of multi-swipe since there are usually precautions taken against double charges but the count is still relatively sensible given how large the data set is."
   ]
  },
  {
   "cell_type": "markdown",
   "metadata": {},
   "source": [
    "# Question 4: Model\n",
    "\n",
    "Fraud is a problem for any bank. Fraud can take many forms, whether it is someone stealing a single credit card, to large batches of stolen credit card numbers being used on the web, or even a mass compromise of credit card numbers stolen from a merchant via tools like credit card skimming devices.\n",
    "\n",
    "•Each of the transactions in the dataset has a field called isFraud. Please build a predictive model to determine whether a given transaction will be fraudulent or not. Use as much of the data as you like (or all of it).\n",
    "\n",
    "•Provide an estimate of performance using an appropriate sample, and show your work.\n",
    "\n",
    "•Please explain your methodology (modeling algorithm/method used and why, what features/data you found useful, what questions you have, and what you would do next with more time)"
   ]
  },
  {
   "cell_type": "markdown",
   "metadata": {},
   "source": [
    "# Modelling\n",
    "\n",
    "## Balancing the dataset\n",
    "\n",
    "Our dataset is highly unbalanced."
   ]
  },
  {
   "cell_type": "code",
   "execution_count": 29,
   "metadata": {},
   "outputs": [
    {
     "data": {
      "image/png": "[encoded data removed]",
      "text/plain": [
       "<Figure size 640x480 with 1 Axes>"
      ]
     },
     "metadata": {
      "needs_background": "light"
     },
     "output_type": "display_data"
    },
    {
     "data": {
      "text/plain": [
       "<ggplot: (8769533044303)>"
      ]
     },
     "execution_count": 29,
     "metadata": {},
     "output_type": "execute_result"
    }
   ],
   "source": [
    "df_temp = pd.DataFrame(df.isFraud.value_counts()).reset_index()\n",
    "df_temp.columns = [\"isFraud\",\"n\"]\n",
    "\n",
    "(ggplot(df_temp,aes('isFraud','n', fill='isFraud')) +\n",
    "  geom_col()+\n",
    "  guides(fill = False)+\n",
    "  labs(\n",
    "    title = \"Distribution of Class Label\",\n",
    "    y = \"Freq\"\n",
    "  )+\n",
    "  geom_text(aes(label = 'n'))+\n",
    "  scale_y_continuous(limits = (0,800000))+\n",
    "  coord_flip()+\n",
    "  theme_minimal())"
   ]
  },
  {
   "cell_type": "markdown",
   "metadata": {},
   "source": [
    "We have to sample our dataset to make it balanced. Here I am undersampling 11559 transactions from both Fraud and not Fraud transactions."
   ]
  },
  {
   "cell_type": "code",
   "execution_count": 30,
   "metadata": {},
   "outputs": [],
   "source": [
    "def func(df,n):\n",
    "    return df.sample(n)\n",
    "\n",
    "df_sample = df.groupby(['isFraud']).apply(func,n=11559).reset_index(drop=True)"
   ]
  },
  {
   "cell_type": "code",
   "execution_count": 31,
   "metadata": {},
   "outputs": [
    {
     "data": {
      "image/png": "[encoded data removed]",
      "text/plain": [
       "<Figure size 640x480 with 1 Axes>"
      ]
     },
     "metadata": {
      "needs_background": "light"
     },
     "output_type": "display_data"
    },
    {
     "data": {
      "text/plain": [
       "<ggplot: (8769533067436)>"
      ]
     },
     "execution_count": 31,
     "metadata": {},
     "output_type": "execute_result"
    }
   ],
   "source": [
    "df_temp = pd.DataFrame(df_sample.isFraud.value_counts()).reset_index()\n",
    "df_temp.columns = [\"isFraud\",\"n\"]\n",
    "\n",
    "(ggplot(df_temp,aes('isFraud','n', fill='isFraud')) +\n",
    "  geom_col()+\n",
    "  guides(fill = False)+\n",
    "  labs(\n",
    "    title = \"Distribution of Class Label\",\n",
    "    y = \"Freq\"\n",
    "  )+\n",
    "  geom_text(aes(label = 'n'))+\n",
    "  coord_flip()+\n",
    "  theme_minimal())"
   ]
  },
  {
   "cell_type": "markdown",
   "metadata": {},
   "source": [
    "## Feature Engineering\n",
    "\n",
    "#### Feature Selection\n",
    "Some attributes that obviously don't have any predictive power  \n",
    "1. accountNumber  \n",
    "2. customerId  \n",
    "3. cardLast4Digits "
   ]
  },
  {
   "cell_type": "markdown",
   "metadata": {},
   "source": [
    "#### Merchant    \n",
    "\n",
    "Too many merchants and their frequencies are low."
   ]
  },
  {
   "cell_type": "code",
   "execution_count": 32,
   "metadata": {},
   "outputs": [
    {
     "data": {
      "text/plain": [
       "Lyft                             1048\n",
       "Uber                              873\n",
       "ebay.com                          816\n",
       "cheapfast.com                     662\n",
       "Fresh Flowers                     644\n",
       "                                 ... \n",
       "Burger King #655453                 1\n",
       "Auntie Anne's #78554                1\n",
       "Golds Gym #508579                   1\n",
       "Sprint Communications #113920       1\n",
       "Burger King #486122                 1\n",
       "Name: merchantName, Length: 1931, dtype: int64"
      ]
     },
     "execution_count": 32,
     "metadata": {},
     "output_type": "execute_result"
    }
   ],
   "source": [
    "df_sample.merchantName.value_counts()"
   ]
  },
  {
   "cell_type": "markdown",
   "metadata": {},
   "source": [
    "Even if we remove the identifier, there are many merchants and their frequencies are low."
   ]
  },
  {
   "cell_type": "code",
   "execution_count": 33,
   "metadata": {},
   "outputs": [
    {
     "data": {
      "text/plain": [
       "Lyft                1048\n",
       "EZ Putt Putt         917\n",
       "Uber                 873\n",
       "ebay.com             816\n",
       "AMC                  787\n",
       "                    ... \n",
       "Barbells               3\n",
       "Northtown Beauty       2\n",
       "Northtown Salon        2\n",
       "EZ Wireless            1\n",
       "Fast Mobile            1\n",
       "Name: merchantName, Length: 199, dtype: int64"
      ]
     },
     "execution_count": 33,
     "metadata": {},
     "output_type": "execute_result"
    }
   ],
   "source": [
    "df_sample.merchantName.replace(\"#.*\", \"\",regex=True).value_counts()"
   ]
  },
  {
   "cell_type": "markdown",
   "metadata": {},
   "source": [
    "Count for merchant category."
   ]
  },
  {
   "cell_type": "code",
   "execution_count": 34,
   "metadata": {},
   "outputs": [
    {
     "data": {
      "text/plain": [
       "online_retail           7513\n",
       "fastfood                2705\n",
       "online_gifts            2479\n",
       "entertainment           2075\n",
       "food                    2025\n",
       "rideshare               1921\n",
       "hotels                   716\n",
       "airline                  703\n",
       "auto                     551\n",
       "subscriptions            519\n",
       "health                   395\n",
       "fuel                     394\n",
       "personal care            333\n",
       "mobileapps               241\n",
       "online_subscriptions     192\n",
       "furniture                182\n",
       "food_delivery            121\n",
       "gym                       32\n",
       "cable/phone               21\n",
       "Name: merchantCategoryCode, dtype: int64"
      ]
     },
     "execution_count": 34,
     "metadata": {},
     "output_type": "execute_result"
    }
   ],
   "source": [
    "df_sample.merchantCategoryCode.value_counts()"
   ]
  },
  {
   "cell_type": "markdown",
   "metadata": {},
   "source": [
    "Let's keep top 6 merchant category and lump remaining to other."
   ]
  },
  {
   "cell_type": "code",
   "execution_count": 35,
   "metadata": {},
   "outputs": [
    {
     "data": {
      "text/plain": [
       "online_retail    7513\n",
       "Other            4400\n",
       "fastfood         2705\n",
       "online_gifts     2479\n",
       "entertainment    2075\n",
       "food             2025\n",
       "rideshare        1921\n",
       "Name: merchantCategoryCode, dtype: int64"
      ]
     },
     "execution_count": 35,
     "metadata": {},
     "output_type": "execute_result"
    }
   ],
   "source": [
    "dic = dict(df_sample.merchantCategoryCode.value_counts())\n",
    "replacing_dic = dict()\n",
    "for x,v in dic.items():\n",
    "    if v>1000:\n",
    "        replacing_dic[x] = x\n",
    "    else:\n",
    "        replacing_dic[x] = \"Other\"\n",
    "\n",
    "df_sample[\"merchantCategoryCode\"] = df_sample.merchantCategoryCode.apply(lambda x: replacing_dic[x])\n",
    "df_sample.merchantCategoryCode.value_counts()"
   ]
  },
  {
   "cell_type": "markdown",
   "metadata": {},
   "source": [
    "Online gifts, retail and rideshare are more effected by fraud"
   ]
  },
  {
   "cell_type": "code",
   "execution_count": 36,
   "metadata": {},
   "outputs": [
    {
     "name": "stderr",
     "output_type": "stream",
     "text": [
      "/opt/anaconda3/lib/python3.8/site-packages/plotnine/facets/facet.py:555: PlotnineWarning: If you need more space for the y-axis tick text use ... + theme(subplots_adjust={'hspace': 0.25}). Choose an appropriate value for 'hspace'\n"
     ]
    },
    {
     "data": {
      "image/png": "[encoded data removed]",
      "text/plain": [
       "<Figure size 800x800 with 7 Axes>"
      ]
     },
     "metadata": {
      "needs_background": "light"
     },
     "output_type": "display_data"
    },
    {
     "data": {
      "text/plain": [
       "<ggplot: (8769527427319)>"
      ]
     },
     "execution_count": 36,
     "metadata": {},
     "output_type": "execute_result"
    }
   ],
   "source": [
    "(ggplot(df_sample,aes('merchantCategoryCode', fill='isFraud'))+\n",
    "  geom_bar()+\n",
    "  coord_flip()+\n",
    "  facet_wrap('~merchantCategoryCode', scales = \"free\", ncol = 1)+\n",
    "  labs(\n",
    "    title = \"Fraud and Not Fraud Transaction acc. to Merchant Cateogory\"\n",
    "  )+\n",
    " theme_minimal()+\n",
    "  theme(axis_title_y=element_blank(),\n",
    "        axis_text_y=element_blank(),\n",
    "        panel_spacing = 0.5,\n",
    "        strip_text_x = element_text(size = 15),\n",
    "        figure_size = (8, 8)))"
   ]
  },
  {
   "cell_type": "markdown",
   "metadata": {},
   "source": [
    "#### Countries  \n",
    "\n",
    "ACQ Country  "
   ]
  },
  {
   "cell_type": "code",
   "execution_count": 37,
   "metadata": {},
   "outputs": [
    {
     "name": "stderr",
     "output_type": "stream",
     "text": [
      "/opt/anaconda3/lib/python3.8/site-packages/plotnine/facets/facet.py:555: PlotnineWarning: If you need more space for the y-axis tick text use ... + theme(subplots_adjust={'hspace': 0.25}). Choose an appropriate value for 'hspace'\n"
     ]
    },
    {
     "data": {
      "image/png": "[encoded data removed]",
      "text/plain": [
       "<Figure size 500x500 with 4 Axes>"
      ]
     },
     "metadata": {
      "needs_background": "light"
     },
     "output_type": "display_data"
    },
    {
     "data": {
      "text/plain": [
       "<ggplot: (8769527397437)>"
      ]
     },
     "execution_count": 37,
     "metadata": {},
     "output_type": "execute_result"
    }
   ],
   "source": [
    "(ggplot(df_sample.dropna(),aes('acqCountry', fill='isFraud'))+\n",
    "  geom_bar()+\n",
    "  coord_flip()+\n",
    "  facet_wrap('~acqCountry', scales = \"free\", ncol = 1)+\n",
    "  labs(\n",
    "    title = \"Fraud and Not Fraud Transaction acc. to ACQ Country\"\n",
    "  )+\n",
    "  theme_minimal()+\n",
    "  theme(axis_title_y=element_blank(),\n",
    "        axis_text_y=element_blank(),\n",
    "        panel_spacing = 0.5,\n",
    "        strip_text_x = element_text(size = 15),\n",
    "        figure_size = (5, 5)))"
   ]
  },
  {
   "cell_type": "markdown",
   "metadata": {},
   "source": [
    "Merchant Country Code  "
   ]
  },
  {
   "cell_type": "code",
   "execution_count": 38,
   "metadata": {},
   "outputs": [
    {
     "name": "stderr",
     "output_type": "stream",
     "text": [
      "/opt/anaconda3/lib/python3.8/site-packages/plotnine/facets/facet.py:555: PlotnineWarning: If you need more space for the y-axis tick text use ... + theme(subplots_adjust={'hspace': 0.25}). Choose an appropriate value for 'hspace'\n"
     ]
    },
    {
     "data": {
      "image/png": "[encoded data removed]",
      "text/plain": [
       "<Figure size 500x500 with 4 Axes>"
      ]
     },
     "metadata": {
      "needs_background": "light"
     },
     "output_type": "display_data"
    },
    {
     "data": {
      "text/plain": [
       "<ggplot: (8769526846757)>"
      ]
     },
     "execution_count": 38,
     "metadata": {},
     "output_type": "execute_result"
    }
   ],
   "source": [
    "(ggplot(df_sample.dropna(),aes('merchantCountryCode', fill='isFraud'))+\n",
    "  geom_bar()+\n",
    "  coord_flip()+\n",
    "  facet_wrap('~merchantCountryCode', scales = \"free\", ncol = 1)+\n",
    "  labs(\n",
    "    title = \"Fraud and Not Fraud Transaction acc. to Merchant Country\"\n",
    "  )+\n",
    "  theme_minimal()+\n",
    "  theme(axis_title_y=element_blank(),\n",
    "        axis_text_y=element_blank(),\n",
    "        panel_spacing = 0.5,\n",
    "        strip_text_x = element_text(size = 15),\n",
    "        figure_size = (5, 5)))"
   ]
  },
  {
   "cell_type": "markdown",
   "metadata": {},
   "source": [
    "#### POS  \n",
    "\n",
    "POS Entry Mode with 09 are more fraudulent and 05 more likely to be safe."
   ]
  },
  {
   "cell_type": "code",
   "execution_count": 39,
   "metadata": {},
   "outputs": [
    {
     "name": "stderr",
     "output_type": "stream",
     "text": [
      "/opt/anaconda3/lib/python3.8/site-packages/plotnine/facets/facet.py:555: PlotnineWarning: If you need more space for the y-axis tick text use ... + theme(subplots_adjust={'hspace': 0.25}). Choose an appropriate value for 'hspace'\n"
     ]
    },
    {
     "data": {
      "image/png": "[encoded data removed]",
      "text/plain": [
       "<Figure size 500x500 with 5 Axes>"
      ]
     },
     "metadata": {
      "needs_background": "light"
     },
     "output_type": "display_data"
    },
    {
     "data": {
      "text/plain": [
       "<ggplot: (8769514293598)>"
      ]
     },
     "execution_count": 39,
     "metadata": {},
     "output_type": "execute_result"
    }
   ],
   "source": [
    "(ggplot(df_sample.dropna(),aes('posEntryMode', fill='isFraud'))+\n",
    "  geom_bar()+\n",
    "  coord_flip()+\n",
    "  facet_wrap('~posEntryMode', scales = \"free\", ncol = 1)+\n",
    "  labs(\n",
    "    title = \"Fraud and Not Fraud Transaction acc. to POS entry mode\"\n",
    "  )+\n",
    "  theme_minimal()+\n",
    "  theme(axis_title_y=element_blank(),\n",
    "        axis_text_y=element_blank(),\n",
    "        panel_spacing = 0.5,\n",
    "        strip_text_x = element_text(size = 15),\n",
    "        figure_size = (5, 5)))"
   ]
  },
  {
   "cell_type": "markdown",
   "metadata": {},
   "source": [
    "POS Condition Code with 99 are more likely to be fraudulent."
   ]
  },
  {
   "cell_type": "code",
   "execution_count": 40,
   "metadata": {},
   "outputs": [
    {
     "name": "stderr",
     "output_type": "stream",
     "text": [
      "/opt/anaconda3/lib/python3.8/site-packages/plotnine/facets/facet.py:555: PlotnineWarning: If you need more space for the y-axis tick text use ... + theme(subplots_adjust={'hspace': 0.25}). Choose an appropriate value for 'hspace'\n"
     ]
    },
    {
     "data": {
      "image/png": "[encoded data removed]",
      "text/plain": [
       "<Figure size 500x500 with 3 Axes>"
      ]
     },
     "metadata": {
      "needs_background": "light"
     },
     "output_type": "display_data"
    },
    {
     "data": {
      "text/plain": [
       "<ggplot: (8769517002063)>"
      ]
     },
     "execution_count": 40,
     "metadata": {},
     "output_type": "execute_result"
    }
   ],
   "source": [
    "(ggplot(df_sample.dropna(),aes('posConditionCode', fill='isFraud'))+\n",
    "  geom_bar()+\n",
    "  coord_flip()+\n",
    "  facet_wrap('~posConditionCode', scales = \"free\", ncol = 1)+\n",
    "  labs(\n",
    "    title = \"Fraud and Not Fraud Transaction acc. to POS ConditionCode\"\n",
    "  )+\n",
    "  theme_minimal()+\n",
    "  theme(axis_title_y=element_blank(),\n",
    "        axis_text_y=element_blank(),\n",
    "        panel_spacing = 0.5,\n",
    "        strip_text_x = element_text(size = 15),\n",
    "        figure_size = (5, 5)))"
   ]
  },
  {
   "cell_type": "markdown",
   "metadata": {},
   "source": [
    "If card is physically present, it is less likely to be fraud."
   ]
  },
  {
   "cell_type": "code",
   "execution_count": 41,
   "metadata": {},
   "outputs": [
    {
     "name": "stderr",
     "output_type": "stream",
     "text": [
      "/opt/anaconda3/lib/python3.8/site-packages/plotnine/facets/facet.py:555: PlotnineWarning: If you need more space for the y-axis tick text use ... + theme(subplots_adjust={'hspace': 0.25}). Choose an appropriate value for 'hspace'\n"
     ]
    },
    {
     "data": {
      "image/png": "[encoded data removed]",
      "text/plain": [
       "<Figure size 500x500 with 2 Axes>"
      ]
     },
     "metadata": {
      "needs_background": "light"
     },
     "output_type": "display_data"
    },
    {
     "data": {
      "text/plain": [
       "<ggplot: (8769513688643)>"
      ]
     },
     "execution_count": 41,
     "metadata": {},
     "output_type": "execute_result"
    }
   ],
   "source": [
    "(ggplot(df_sample.dropna(),aes('cardPresent', fill='isFraud'))+\n",
    "  geom_bar()+\n",
    "  coord_flip()+\n",
    "  facet_wrap('~cardPresent', scales = \"free\", ncol = 1)+\n",
    "  labs(\n",
    "    title = \"Is there Card Present during transaction?\"\n",
    "  )+\n",
    "  theme_minimal()+\n",
    "  theme(axis_title_y=element_blank(),\n",
    "        axis_text_y=element_blank(),\n",
    "        panel_spacing = 0.5,\n",
    "        strip_text_x = element_text(size = 15),\n",
    "        figure_size = (5, 5)))"
   ]
  },
  {
   "cell_type": "markdown",
   "metadata": {},
   "source": [
    "Most of the values in expirationDateKeyInMatch is FALSE."
   ]
  },
  {
   "cell_type": "code",
   "execution_count": 42,
   "metadata": {},
   "outputs": [
    {
     "data": {
      "text/plain": [
       "False    23088\n",
       "True        30\n",
       "Name: expirationDateKeyInMatch, dtype: int64"
      ]
     },
     "execution_count": 42,
     "metadata": {},
     "output_type": "execute_result"
    }
   ],
   "source": [
    "df_sample.expirationDateKeyInMatch.value_counts()"
   ]
  },
  {
   "cell_type": "markdown",
   "metadata": {},
   "source": [
    "Taking everything in account, I have selected follow features:  \n",
    "1. acqCountry  \n",
    "2. creditLimit  \n",
    "3. availableMoney            \n",
    "4. transactionAmount  \n",
    "5. posEntryMode  \n",
    "6. posConditionCode         \n",
    "7. merchantCategoryCode              \n",
    "8. currentBalance           \n",
    "9. cardPresent  "
   ]
  },
  {
   "cell_type": "markdown",
   "metadata": {},
   "source": [
    "#### Feature Creation  \n",
    "\n",
    "Lets create some features:  \n",
    "1. Transaction Days since acc. creation i.e. transDays (Are fraudulent transaction performed by card that are just created?)  \n",
    "2. Days remaining for expiry of the card i.e. expiryDays (Are older cards more likely to be safe?)  \n",
    "3. Does CVV match? i.e matchedCvv  \n",
    "4. Days since last address change. i.e. addressChangeDays (Cards whose address are recently changed, are they used for fraudulent transaction ?)  \n"
   ]
  },
  {
   "cell_type": "code",
   "execution_count": 43,
   "metadata": {},
   "outputs": [],
   "source": [
    "df_sample['transDays'] = (df_sample.transactionDateTime - df_sample.accountOpenDate).apply(lambda x: x.days)\n",
    "df_sample['expiryDays'] = (df_sample.currentExpDate - df_sample.transactionDateTime).apply(lambda x: x.days)\n",
    "df_sample['addressChangeDays'] = (df_sample.transactionDateTime - df_sample.dateOfLastAddressChange).apply(lambda x: x.days)\n",
    "df_sample['matchedCvv'] = (df_sample.enteredCVV == df_sample.cardCVV)"
   ]
  },
  {
   "cell_type": "markdown",
   "metadata": {},
   "source": [
    "Is there any significant difference in the distribution of Fraud and not Fraud from the feature created?"
   ]
  },
  {
   "cell_type": "code",
   "execution_count": 44,
   "metadata": {},
   "outputs": [
    {
     "data": {
      "image/png": "[encoded data removed]",
      "text/plain": [
       "<Figure size 500x500 with 2 Axes>"
      ]
     },
     "metadata": {
      "needs_background": "light"
     },
     "output_type": "display_data"
    },
    {
     "data": {
      "text/plain": [
       "<ggplot: (8769513695886)>"
      ]
     },
     "execution_count": 44,
     "metadata": {},
     "output_type": "execute_result"
    }
   ],
   "source": [
    "(ggplot(df_sample,aes('transDays', fill='isFraud'))+\n",
    "  geom_histogram(bins=50,alpha=0.8,)+\n",
    "  labs(\n",
    "    title = \"Fraud and Not Fraud Transaction acc. to 'Days since acc. creation'\"\n",
    "  )+\n",
    "  facet_wrap('~isFraud',ncol=1)+\n",
    "  theme_minimal()+\n",
    "  theme(figure_size = (5, 5)))"
   ]
  },
  {
   "cell_type": "code",
   "execution_count": 45,
   "metadata": {},
   "outputs": [
    {
     "data": {
      "image/png": "[encoded data removed]",
      "text/plain": [
       "<Figure size 500x500 with 2 Axes>"
      ]
     },
     "metadata": {
      "needs_background": "light"
     },
     "output_type": "display_data"
    },
    {
     "data": {
      "text/plain": [
       "<ggplot: (8769540933654)>"
      ]
     },
     "execution_count": 45,
     "metadata": {},
     "output_type": "execute_result"
    }
   ],
   "source": [
    "(ggplot(df_sample,aes('expiryDays', fill='isFraud'))+\n",
    "  geom_histogram(bins=50,alpha=0.8,)+\n",
    "  labs(\n",
    "    title = \"Fraud and Not Fraud Transaction acc. to 'Days remaning for card expiry'\"\n",
    "  )+\n",
    "  facet_wrap('~isFraud',ncol=1)+\n",
    "  theme_minimal()+\n",
    "  theme(figure_size = (5, 5)))"
   ]
  },
  {
   "cell_type": "code",
   "execution_count": 46,
   "metadata": {},
   "outputs": [
    {
     "data": {
      "image/png": "[encoded data removed]",
      "text/plain": [
       "<Figure size 500x500 with 2 Axes>"
      ]
     },
     "metadata": {
      "needs_background": "light"
     },
     "output_type": "display_data"
    },
    {
     "data": {
      "text/plain": [
       "<ggplot: (8769522987581)>"
      ]
     },
     "execution_count": 46,
     "metadata": {},
     "output_type": "execute_result"
    }
   ],
   "source": [
    "(ggplot(df_sample,aes('addressChangeDays', fill='isFraud'))+\n",
    "  geom_histogram(bins=50,alpha=0.8,)+\n",
    "  labs(\n",
    "    title = \"Fraud and Not Fraud Transaction acc. to 'Days since address changed'\"\n",
    "  )+\n",
    "  facet_wrap('~isFraud',ncol=1)+\n",
    "  theme_minimal()+\n",
    "  theme(figure_size = (5, 5)))"
   ]
  },
  {
   "cell_type": "code",
   "execution_count": 47,
   "metadata": {},
   "outputs": [
    {
     "name": "stderr",
     "output_type": "stream",
     "text": [
      "/opt/anaconda3/lib/python3.8/site-packages/plotnine/facets/facet.py:555: PlotnineWarning: If you need more space for the y-axis tick text use ... + theme(subplots_adjust={'hspace': 0.25}). Choose an appropriate value for 'hspace'\n"
     ]
    },
    {
     "data": {
      "image/png": "[encoded data removed]",
      "text/plain": [
       "<Figure size 640x480 with 2 Axes>"
      ]
     },
     "metadata": {
      "needs_background": "light"
     },
     "output_type": "display_data"
    },
    {
     "data": {
      "text/plain": [
       "<ggplot: (8769523713344)>"
      ]
     },
     "execution_count": 47,
     "metadata": {},
     "output_type": "execute_result"
    }
   ],
   "source": [
    "(ggplot(df_sample,aes('matchedCvv', fill='isFraud'))+\n",
    "  geom_bar()+\n",
    "  coord_flip()+\n",
    "  facet_wrap('~matchedCvv', scales = \"free\", ncol = 1)+\n",
    "  labs(\n",
    "    title = \"Fraud and Not Fraud Transaction acc. to 'Does CVV matched?'\"\n",
    "  )+\n",
    "  theme_minimal())\n",
    "# Too small data for non matched Cvv to make any judgment"
   ]
  },
  {
   "cell_type": "markdown",
   "metadata": {},
   "source": [
    "Couldn't find any significant difference(visually) in the distribution of Fraud and not Fraud from the feature created. So dropping them."
   ]
  },
  {
   "cell_type": "markdown",
   "metadata": {},
   "source": [
    "## Model Development\n",
    "\n",
    "### Dataset preperation\n",
    "Here I am removing any row containing NA."
   ]
  },
  {
   "cell_type": "code",
   "execution_count": 48,
   "metadata": {},
   "outputs": [],
   "source": [
    "df_sample.dropna(inplace=True)\n",
    "df_sample = df_sample[df_sample.transactionType == \"PURCHASE\"]\n",
    "df_model = df_sample[['creditLimit', 'availableMoney', 'transactionAmount', 'acqCountry','posEntryMode', \n",
    "                       'posConditionCode', 'merchantCategoryCode', 'currentBalance', 'cardPresent', 'isFraud']]"
   ]
  },
  {
   "cell_type": "markdown",
   "metadata": {},
   "source": [
    "Our data to the model is"
   ]
  },
  {
   "cell_type": "code",
   "execution_count": 49,
   "metadata": {},
   "outputs": [
    {
     "data": {
      "text/html": [
       "<div>\n",
       "<style scoped>\n",
       "    .dataframe tbody tr th:only-of-type {\n",
       "        vertical-align: middle;\n",
       "    }\n",
       "\n",
       "    .dataframe tbody tr th {\n",
       "        vertical-align: top;\n",
       "    }\n",
       "\n",
       "    .dataframe thead th {\n",
       "        text-align: right;\n",
       "    }\n",
       "</style>\n",
       "<table border=\"1\" class=\"dataframe\">\n",
       "  <thead>\n",
       "    <tr style=\"text-align: right;\">\n",
       "      <th></th>\n",
       "      <th>0</th>\n",
       "      <th>1</th>\n",
       "      <th>2</th>\n",
       "      <th>3</th>\n",
       "      <th>4</th>\n",
       "      <th>5</th>\n",
       "      <th>6</th>\n",
       "      <th>7</th>\n",
       "      <th>8</th>\n",
       "      <th>9</th>\n",
       "    </tr>\n",
       "  </thead>\n",
       "  <tbody>\n",
       "    <tr>\n",
       "      <th>creditLimit</th>\n",
       "      <td>15000</td>\n",
       "      <td>5000</td>\n",
       "      <td>10000</td>\n",
       "      <td>15000</td>\n",
       "      <td>5000</td>\n",
       "      <td>10000</td>\n",
       "      <td>5000</td>\n",
       "      <td>20000</td>\n",
       "      <td>10000</td>\n",
       "      <td>2500</td>\n",
       "    </tr>\n",
       "    <tr>\n",
       "      <th>availableMoney</th>\n",
       "      <td>7435.04</td>\n",
       "      <td>4900.86</td>\n",
       "      <td>6096.46</td>\n",
       "      <td>4807.01</td>\n",
       "      <td>4756.59</td>\n",
       "      <td>10000</td>\n",
       "      <td>1506.57</td>\n",
       "      <td>17521</td>\n",
       "      <td>7479.86</td>\n",
       "      <td>495.59</td>\n",
       "    </tr>\n",
       "    <tr>\n",
       "      <th>transactionAmount</th>\n",
       "      <td>257.21</td>\n",
       "      <td>39.64</td>\n",
       "      <td>26.43</td>\n",
       "      <td>93.32</td>\n",
       "      <td>59.61</td>\n",
       "      <td>7.51</td>\n",
       "      <td>274.27</td>\n",
       "      <td>31.05</td>\n",
       "      <td>129.1</td>\n",
       "      <td>54.64</td>\n",
       "    </tr>\n",
       "    <tr>\n",
       "      <th>acqCountry</th>\n",
       "      <td>US</td>\n",
       "      <td>US</td>\n",
       "      <td>CAN</td>\n",
       "      <td>US</td>\n",
       "      <td>US</td>\n",
       "      <td>US</td>\n",
       "      <td>US</td>\n",
       "      <td>US</td>\n",
       "      <td>US</td>\n",
       "      <td>US</td>\n",
       "    </tr>\n",
       "    <tr>\n",
       "      <th>posEntryMode</th>\n",
       "      <td>5</td>\n",
       "      <td>2</td>\n",
       "      <td>5</td>\n",
       "      <td>2</td>\n",
       "      <td>5</td>\n",
       "      <td>5</td>\n",
       "      <td>5</td>\n",
       "      <td>5</td>\n",
       "      <td>5</td>\n",
       "      <td>9</td>\n",
       "    </tr>\n",
       "    <tr>\n",
       "      <th>posConditionCode</th>\n",
       "      <td>8</td>\n",
       "      <td>1</td>\n",
       "      <td>1</td>\n",
       "      <td>1</td>\n",
       "      <td>1</td>\n",
       "      <td>1</td>\n",
       "      <td>8</td>\n",
       "      <td>1</td>\n",
       "      <td>1</td>\n",
       "      <td>1</td>\n",
       "    </tr>\n",
       "    <tr>\n",
       "      <th>merchantCategoryCode</th>\n",
       "      <td>online_retail</td>\n",
       "      <td>fastfood</td>\n",
       "      <td>Other</td>\n",
       "      <td>Other</td>\n",
       "      <td>online_retail</td>\n",
       "      <td>Other</td>\n",
       "      <td>online_retail</td>\n",
       "      <td>entertainment</td>\n",
       "      <td>online_retail</td>\n",
       "      <td>online_retail</td>\n",
       "    </tr>\n",
       "    <tr>\n",
       "      <th>currentBalance</th>\n",
       "      <td>7564.96</td>\n",
       "      <td>99.14</td>\n",
       "      <td>3903.54</td>\n",
       "      <td>10193</td>\n",
       "      <td>243.41</td>\n",
       "      <td>0</td>\n",
       "      <td>3493.43</td>\n",
       "      <td>2479.04</td>\n",
       "      <td>2520.14</td>\n",
       "      <td>2004.41</td>\n",
       "    </tr>\n",
       "    <tr>\n",
       "      <th>cardPresent</th>\n",
       "      <td>False</td>\n",
       "      <td>True</td>\n",
       "      <td>True</td>\n",
       "      <td>False</td>\n",
       "      <td>False</td>\n",
       "      <td>False</td>\n",
       "      <td>False</td>\n",
       "      <td>True</td>\n",
       "      <td>False</td>\n",
       "      <td>False</td>\n",
       "    </tr>\n",
       "    <tr>\n",
       "      <th>isFraud</th>\n",
       "      <td>False</td>\n",
       "      <td>False</td>\n",
       "      <td>False</td>\n",
       "      <td>False</td>\n",
       "      <td>False</td>\n",
       "      <td>False</td>\n",
       "      <td>False</td>\n",
       "      <td>False</td>\n",
       "      <td>False</td>\n",
       "      <td>False</td>\n",
       "    </tr>\n",
       "  </tbody>\n",
       "</table>\n",
       "</div>"
      ],
      "text/plain": [
       "                                  0         1        2        3  \\\n",
       "creditLimit                   15000      5000    10000    15000   \n",
       "availableMoney              7435.04   4900.86  6096.46  4807.01   \n",
       "transactionAmount            257.21     39.64    26.43    93.32   \n",
       "acqCountry                       US        US      CAN       US   \n",
       "posEntryMode                      5         2        5        2   \n",
       "posConditionCode                  8         1        1        1   \n",
       "merchantCategoryCode  online_retail  fastfood    Other    Other   \n",
       "currentBalance              7564.96     99.14  3903.54    10193   \n",
       "cardPresent                   False      True     True    False   \n",
       "isFraud                       False     False    False    False   \n",
       "\n",
       "                                  4      5              6              7  \\\n",
       "creditLimit                    5000  10000           5000          20000   \n",
       "availableMoney              4756.59  10000        1506.57          17521   \n",
       "transactionAmount             59.61   7.51         274.27          31.05   \n",
       "acqCountry                       US     US             US             US   \n",
       "posEntryMode                      5      5              5              5   \n",
       "posConditionCode                  1      1              8              1   \n",
       "merchantCategoryCode  online_retail  Other  online_retail  entertainment   \n",
       "currentBalance               243.41      0        3493.43        2479.04   \n",
       "cardPresent                   False  False          False           True   \n",
       "isFraud                       False  False          False          False   \n",
       "\n",
       "                                  8              9  \n",
       "creditLimit                   10000           2500  \n",
       "availableMoney              7479.86         495.59  \n",
       "transactionAmount             129.1          54.64  \n",
       "acqCountry                       US             US  \n",
       "posEntryMode                      5              9  \n",
       "posConditionCode                  1              1  \n",
       "merchantCategoryCode  online_retail  online_retail  \n",
       "currentBalance              2520.14        2004.41  \n",
       "cardPresent                   False          False  \n",
       "isFraud                       False          False  "
      ]
     },
     "execution_count": 49,
     "metadata": {},
     "output_type": "execute_result"
    }
   ],
   "source": [
    "df_model.head(10).T"
   ]
  },
  {
   "cell_type": "markdown",
   "metadata": {},
   "source": [
    "Splitting the data into test and train"
   ]
  },
  {
   "cell_type": "code",
   "execution_count": 50,
   "metadata": {},
   "outputs": [],
   "source": [
    "df_train_X, df_test_X, df_train_Y, df_test_Y = train_test_split(df_model.loc[:, df_model.columns != 'isFraud'], \n",
    "                                                                df_model[[\"isFraud\"]])"
   ]
  },
  {
   "cell_type": "markdown",
   "metadata": {},
   "source": [
    "### Preprocessor\n",
    "Lets preprocesses the input data as:  \n",
    "1. Normalize all numeric data.  \n",
    "2. Create dummy variable for factors data.  "
   ]
  },
  {
   "cell_type": "code",
   "execution_count": 51,
   "metadata": {},
   "outputs": [],
   "source": [
    "numeric_features = ['creditLimit', 'availableMoney', 'transactionAmount', 'currentBalance']\n",
    "numeric_transformer = Pipeline(steps=[\n",
    "    ('scaler', StandardScaler())])\n",
    "\n",
    "categorical_features = ['acqCountry','posEntryMode', 'posConditionCode', 'merchantCategoryCode']\n",
    "categorical_transformer = OneHotEncoder(handle_unknown='ignore')\n",
    "\n",
    "preprocessor = ColumnTransformer(\n",
    "    transformers=[\n",
    "        ('num', numeric_transformer, numeric_features),\n",
    "        ('cat', categorical_transformer, categorical_features)])\n"
   ]
  },
  {
   "cell_type": "markdown",
   "metadata": {},
   "source": [
    "### Model Definition (using Decision Tree)\n",
    "I am selecting decision tree as model for fraud detection since decision trees are highly interpretable and we can easily see what attribute drives fraud detection the most."
   ]
  },
  {
   "cell_type": "code",
   "execution_count": 52,
   "metadata": {},
   "outputs": [],
   "source": [
    "model = DecisionTreeClassifier()"
   ]
  },
  {
   "cell_type": "markdown",
   "metadata": {},
   "source": [
    "Our Pipeline = preprocessor + model"
   ]
  },
  {
   "cell_type": "code",
   "execution_count": 53,
   "metadata": {},
   "outputs": [],
   "source": [
    "# Append classifier to preprocessing pipeline.\n",
    "# Now we have a full prediction pipeline.\n",
    "clf = Pipeline(steps=[('preprocessor', preprocessor),\n",
    "                      ('classifier',  model)])"
   ]
  },
  {
   "cell_type": "code",
   "execution_count": 54,
   "metadata": {},
   "outputs": [
    {
     "data": {
      "text/plain": [
       "Pipeline(steps=[('preprocessor',\n",
       "                 ColumnTransformer(transformers=[('num',\n",
       "                                                  Pipeline(steps=[('scaler',\n",
       "                                                                   StandardScaler())]),\n",
       "                                                  ['creditLimit',\n",
       "                                                   'availableMoney',\n",
       "                                                   'transactionAmount',\n",
       "                                                   'currentBalance']),\n",
       "                                                 ('cat',\n",
       "                                                  OneHotEncoder(handle_unknown='ignore'),\n",
       "                                                  ['acqCountry', 'posEntryMode',\n",
       "                                                   'posConditionCode',\n",
       "                                                   'merchantCategoryCode'])])),\n",
       "                ('classifier', DecisionTreeClassifier())])"
      ]
     },
     "execution_count": 54,
     "metadata": {},
     "output_type": "execute_result"
    }
   ],
   "source": [
    "clf"
   ]
  },
  {
   "cell_type": "markdown",
   "metadata": {},
   "source": [
    "# Parameter Tuning\n",
    "Here I am using grid search approach for:\n",
    "1. max_depth = [1, 8, 15]\n",
    "2. min_samples_split = [2, 21, 40]"
   ]
  },
  {
   "cell_type": "code",
   "execution_count": 55,
   "metadata": {},
   "outputs": [
    {
     "data": {
      "text/plain": [
       "GridSearchCV(estimator=Pipeline(steps=[('preprocessor',\n",
       "                                        ColumnTransformer(transformers=[('num',\n",
       "                                                                         Pipeline(steps=[('scaler',\n",
       "                                                                                          StandardScaler())]),\n",
       "                                                                         ['creditLimit',\n",
       "                                                                          'availableMoney',\n",
       "                                                                          'transactionAmount',\n",
       "                                                                          'currentBalance']),\n",
       "                                                                        ('cat',\n",
       "                                                                         OneHotEncoder(handle_unknown='ignore'),\n",
       "                                                                         ['acqCountry',\n",
       "                                                                          'posEntryMode',\n",
       "                                                                          'posConditionCode',\n",
       "                                                                          'merchantCategoryCode'])])),\n",
       "                                       ('classifier',\n",
       "                                        DecisionTreeClassifier())]),\n",
       "             n_jobs=-1,\n",
       "             param_grid={'classifier__max_depth': [1, 8, 15],\n",
       "                         'classifier__min_samples_split': [2, 21, 40]})"
      ]
     },
     "execution_count": 55,
     "metadata": {},
     "output_type": "execute_result"
    }
   ],
   "source": [
    "parameters = {'classifier__max_depth':[1, 8, 15], 'classifier__min_samples_split':[2, 21, 40]}\n",
    "\n",
    "cv = GridSearchCV(clf, parameters,n_jobs=-1)\n",
    "cv.fit(df_train_X, df_train_Y)"
   ]
  },
  {
   "cell_type": "code",
   "execution_count": 56,
   "metadata": {},
   "outputs": [
    {
     "name": "stdout",
     "output_type": "stream",
     "text": [
      "Test accuracy of 0.622 for {'classifier__max_depth': 1, 'classifier__min_samples_split': 2}\n",
      "Test accuracy of 0.622 for {'classifier__max_depth': 1, 'classifier__min_samples_split': 21}\n",
      "Test accuracy of 0.622 for {'classifier__max_depth': 1, 'classifier__min_samples_split': 40}\n",
      "Test accuracy of 0.663 for {'classifier__max_depth': 8, 'classifier__min_samples_split': 2}\n",
      "Test accuracy of 0.663 for {'classifier__max_depth': 8, 'classifier__min_samples_split': 21}\n",
      "Test accuracy of 0.664 for {'classifier__max_depth': 8, 'classifier__min_samples_split': 40}\n",
      "Test accuracy of 0.626 for {'classifier__max_depth': 15, 'classifier__min_samples_split': 2}\n",
      "Test accuracy of 0.630 for {'classifier__max_depth': 15, 'classifier__min_samples_split': 21}\n",
      "Test accuracy of 0.638 for {'classifier__max_depth': 15, 'classifier__min_samples_split': 40}\n"
     ]
    }
   ],
   "source": [
    "for mean, params in zip(cv.cv_results_['mean_test_score'], cv.cv_results_['params']):\n",
    "      print(\"Test accuracy of %0.3f for %r\" % (mean, params))"
   ]
  },
  {
   "cell_type": "markdown",
   "metadata": {},
   "source": [
    "So max_depth of 8 and min_samples_split of 2 has highest test accuracy in our 10 fold CV set."
   ]
  },
  {
   "cell_type": "code",
   "execution_count": 57,
   "metadata": {},
   "outputs": [
    {
     "data": {
      "text/plain": [
       "Pipeline(steps=[('preprocessor',\n",
       "                 ColumnTransformer(transformers=[('num',\n",
       "                                                  Pipeline(steps=[('scaler',\n",
       "                                                                   StandardScaler())]),\n",
       "                                                  ['creditLimit',\n",
       "                                                   'availableMoney',\n",
       "                                                   'transactionAmount',\n",
       "                                                   'currentBalance']),\n",
       "                                                 ('cat',\n",
       "                                                  OneHotEncoder(handle_unknown='ignore'),\n",
       "                                                  ['acqCountry', 'posEntryMode',\n",
       "                                                   'posConditionCode',\n",
       "                                                   'merchantCategoryCode'])])),\n",
       "                ('classifier',\n",
       "                 DecisionTreeClassifier(max_depth=8, min_samples_split=40))])"
      ]
     },
     "execution_count": 57,
     "metadata": {},
     "output_type": "execute_result"
    }
   ],
   "source": [
    "model_final = cv.best_estimator_\n",
    "model_final = model_final.fit(df_train_X, df_train_Y)\n",
    "model_final"
   ]
  },
  {
   "cell_type": "markdown",
   "metadata": {},
   "source": [
    "Testing the model"
   ]
  },
  {
   "cell_type": "code",
   "execution_count": 58,
   "metadata": {},
   "outputs": [
    {
     "name": "stdout",
     "output_type": "stream",
     "text": [
      "Accuracy of 0.6790101156069365\n"
     ]
    }
   ],
   "source": [
    "print(\"Accuracy of\",model_final.score(df_test_X, df_test_Y))"
   ]
  },
  {
   "cell_type": "markdown",
   "metadata": {},
   "source": [
    "Metrics Report"
   ]
  },
  {
   "cell_type": "code",
   "execution_count": 59,
   "metadata": {},
   "outputs": [
    {
     "data": {
      "text/html": [
       "<div>\n",
       "<style scoped>\n",
       "    .dataframe tbody tr th:only-of-type {\n",
       "        vertical-align: middle;\n",
       "    }\n",
       "\n",
       "    .dataframe tbody tr th {\n",
       "        vertical-align: top;\n",
       "    }\n",
       "\n",
       "    .dataframe thead th {\n",
       "        text-align: right;\n",
       "    }\n",
       "</style>\n",
       "<table border=\"1\" class=\"dataframe\">\n",
       "  <thead>\n",
       "    <tr style=\"text-align: right;\">\n",
       "      <th></th>\n",
       "      <th>False</th>\n",
       "      <th>True</th>\n",
       "      <th>accuracy</th>\n",
       "      <th>macro avg</th>\n",
       "      <th>weighted avg</th>\n",
       "    </tr>\n",
       "  </thead>\n",
       "  <tbody>\n",
       "    <tr>\n",
       "      <th>precision</th>\n",
       "      <td>0.698315</td>\n",
       "      <td>0.661765</td>\n",
       "      <td>0.67901</td>\n",
       "      <td>0.680040</td>\n",
       "      <td>0.680337</td>\n",
       "    </tr>\n",
       "    <tr>\n",
       "      <th>recall</th>\n",
       "      <td>0.648418</td>\n",
       "      <td>0.710613</td>\n",
       "      <td>0.67901</td>\n",
       "      <td>0.679516</td>\n",
       "      <td>0.679010</td>\n",
       "    </tr>\n",
       "    <tr>\n",
       "      <th>f1-score</th>\n",
       "      <td>0.672442</td>\n",
       "      <td>0.685320</td>\n",
       "      <td>0.67901</td>\n",
       "      <td>0.678881</td>\n",
       "      <td>0.678776</td>\n",
       "    </tr>\n",
       "    <tr>\n",
       "      <th>support</th>\n",
       "      <td>2813.000000</td>\n",
       "      <td>2723.000000</td>\n",
       "      <td>0.67901</td>\n",
       "      <td>5536.000000</td>\n",
       "      <td>5536.000000</td>\n",
       "    </tr>\n",
       "  </tbody>\n",
       "</table>\n",
       "</div>"
      ],
      "text/plain": [
       "                 False         True  accuracy    macro avg  weighted avg\n",
       "precision     0.698315     0.661765   0.67901     0.680040      0.680337\n",
       "recall        0.648418     0.710613   0.67901     0.679516      0.679010\n",
       "f1-score      0.672442     0.685320   0.67901     0.678881      0.678776\n",
       "support    2813.000000  2723.000000   0.67901  5536.000000   5536.000000"
      ]
     },
     "execution_count": 59,
     "metadata": {},
     "output_type": "execute_result"
    }
   ],
   "source": [
    "from sklearn.metrics import classification_report\n",
    "\n",
    "y_pred = model_final.predict(df_test_X)\n",
    "\n",
    "pd.DataFrame.from_dict(classification_report(df_test_Y.values, y_pred,output_dict=True))"
   ]
  },
  {
   "cell_type": "code",
   "execution_count": 60,
   "metadata": {},
   "outputs": [
    {
     "data": {
      "text/plain": [
       "<sklearn.metrics._plot.confusion_matrix.ConfusionMatrixDisplay at 0x7f9cfb377550>"
      ]
     },
     "execution_count": 60,
     "metadata": {},
     "output_type": "execute_result"
    },
    {
     "data": {
      "image/png": "[encoded data removed]",
      "text/plain": [
       "<Figure size 432x288 with 2 Axes>"
      ]
     },
     "metadata": {
      "needs_background": "light"
     },
     "output_type": "display_data"
    }
   ],
   "source": [
    "from sklearn.metrics import plot_confusion_matrix\n",
    "\n",
    "plot_confusion_matrix(model_final,df_test_X, df_test_Y)"
   ]
  },
  {
   "cell_type": "markdown",
   "metadata": {},
   "source": [
    "ROC curve"
   ]
  },
  {
   "cell_type": "code",
   "execution_count": 61,
   "metadata": {},
   "outputs": [
    {
     "data": {
      "image/png": "[encoded data removed]",
      "text/plain": [
       "<Figure size 432x288 with 1 Axes>"
      ]
     },
     "metadata": {
      "needs_background": "light"
     },
     "output_type": "display_data"
    }
   ],
   "source": [
    "from sklearn.metrics import roc_curve\n",
    "import matplotlib.pyplot as plt\n",
    "\n",
    "def plot_roc_curve(fper, tper):  \n",
    "    plt.plot(fper, tper, color='orange', label='ROC')\n",
    "    plt.plot([0, 1], [0, 1], color='darkblue', linestyle='--')\n",
    "    plt.xlabel('False Positive Rate')\n",
    "    plt.ylabel('True Positive Rate')\n",
    "    plt.title('Receiver Operating Characteristic (ROC) Curve')\n",
    "    plt.legend()\n",
    "    plt.show()\n",
    "\n",
    "probs = model_final.predict_proba(df_test_X)  \n",
    "probs = probs[:, 1]  \n",
    "fper, tper, thresholds = roc_curve(df_test_Y, probs) \n",
    "plot_roc_curve(fper, tper)"
   ]
  },
  {
   "cell_type": "code",
   "execution_count": 62,
   "metadata": {},
   "outputs": [],
   "source": [
    "from sklearn.feature_extraction.text import _VectorizerMixin\n",
    "from sklearn.feature_selection._base import SelectorMixin\n",
    "\n",
    "def get_feature_out(estimator, feature_in):\n",
    "    if hasattr(estimator,'get_feature_names'):\n",
    "        if isinstance(estimator, _VectorizerMixin):\n",
    "            # handling all vectorizers\n",
    "            return [f'vec_{f}' \\\n",
    "                for f in estimator.get_feature_names()]\n",
    "        else:\n",
    "            return estimator.get_feature_names(feature_in)\n",
    "    elif isinstance(estimator, SelectorMixin):\n",
    "        return np.array(feature_in)[estimator.get_support()]\n",
    "    else:\n",
    "        return feature_in\n",
    "\n",
    "def get_ct_feature_names(ct):\n",
    "    # handles all estimators, pipelines inside ColumnTransfomer\n",
    "    # doesn't work when remainder =='passthrough'\n",
    "    # which requires the input column names.\n",
    "    output_features = []\n",
    "\n",
    "    for name, estimator, features in ct.transformers_:\n",
    "        if name!='remainder':\n",
    "            if isinstance(estimator, Pipeline):\n",
    "                current_features = features\n",
    "                for step in estimator:\n",
    "                    current_features = get_feature_out(step, current_features)\n",
    "                features_out = current_features\n",
    "            else:\n",
    "                features_out = get_feature_out(estimator, features)\n",
    "            output_features.extend(features_out)\n",
    "        elif estimator=='passthrough':\n",
    "            output_features.extend(ct._feature_names_in[features])\n",
    "                \n",
    "    return output_features\n",
    "\n",
    "feature_names = get_ct_feature_names(model_final[0])"
   ]
  },
  {
   "cell_type": "markdown",
   "metadata": {},
   "source": [
    "### Feature importance\n",
    "Transaction Amount and Merchant category are important predictor for detecting fraudulent transactions."
   ]
  },
  {
   "cell_type": "code",
   "execution_count": 63,
   "metadata": {},
   "outputs": [
    {
     "data": {
      "image/png": "[encoded data removed]",
      "text/plain": [
       "<Figure size 432x288 with 1 Axes>"
      ]
     },
     "metadata": {
      "needs_background": "light"
     },
     "output_type": "display_data"
    }
   ],
   "source": [
    "importances = model_final[1].feature_importances_\n",
    "\n",
    "# Sort feature importances in descending order\n",
    "indices = np.argsort(importances)[::-1]\n",
    "\n",
    "# Rearrange feature names so they match the sorted feature importances\n",
    "names = [feature_names[i] for i in indices]\n",
    "\n",
    "# Create plot\n",
    "plt.figure()\n",
    "\n",
    "# Create plot title\n",
    "plt.title(\"Feature Importance\")\n",
    "\n",
    "# Add bars\n",
    "plt.bar(range(len(feature_names)), importances[indices])\n",
    "\n",
    "# Add feature names as x-axis labels\n",
    "plt.xticks(range(len(feature_names)), names, rotation=90)\n",
    "\n",
    "# Show plot\n",
    "plt.show()"
   ]
  },
  {
   "cell_type": "code",
   "execution_count": 64,
   "metadata": {},
   "outputs": [
    {
     "data": {
      "image/png": "[encoded data removed]",
      "text/plain": [
       "<Figure size 1440x1440 with 1 Axes>"
      ]
     },
     "metadata": {
      "needs_background": "light"
     },
     "output_type": "display_data"
    }
   ],
   "source": [
    "#too big to visualize here\n",
    "from sklearn.tree import plot_tree\n",
    "plt.figure(figsize=(20, 20))\n",
    "plot_tree(model_final[1], filled=True)\n",
    "plt.show()"
   ]
  },
  {
   "cell_type": "markdown",
   "metadata": {},
   "source": [
    "Since I have picked decision tree as the model  \n",
    "Some advantages of decision trees are:\n",
    "\n",
    "1. Simple to understand and to interpret. Trees can be visualised.\n",
    "\n",
    "2. Requires little data preparation. Other techniques often require data normalisation, dummy variables need to be created and blank values to be removed.\n",
    "\n",
    "3. The cost of using the tree is logarithmic in the number of data points used to train the tree.\n",
    "\n",
    "4. Able to handle both numerical and categorical data.\n",
    "\n",
    "The disadvantages of decision trees include:\n",
    "\n",
    "1. Decision-tree learners can create over-complex trees that do not generalise the data well.\n",
    "\n",
    "2. Decision trees can be unstable because small variations in the data might result in a completely different tree being generated. This problem is mitigated by using decision trees within an ensemble."
   ]
  },
  {
   "cell_type": "markdown",
   "metadata": {},
   "source": [
    "## Write up\n",
    "### In Conclusion, my model accuracy was 0.679 which was lower than I expected. Perhaps it is that this model is not best for the context or it could also have to do with the features that I selected after my analysis of relationships to fraudulent activity for fields of interest, I also wonder if I missed an opportunity by grouping merchant categories. I wasn't surprised to see that there is more fraudulent activity on online shops, but I was surprised to see that there is more fraudulent activity in ridesharing given top companies like Uber and Lyft should have better security measures."
   ]
  },
  {
   "cell_type": "markdown",
   "metadata": {},
   "source": [
    "# Remarks\n",
    "\n",
    "Methods I attempted that didn't work  \n",
    "* I tried creating features(transDays, expiryDays, addressChangeDays, matchedCvv) but I couldn't find any significant difference(visually) in the distribution of Fraud and not Fraud from the feature created. So I dropped it.\n",
    "\n",
    "\n",
    "I would have tried following ideas if I had more time   \n",
    "1. What if purchase and reversal don't follow immediately? For eg, person X bought A and B. Than after a minute X canceled A.  \n",
    "2. Can 10 minute be considered 'short duration' in multi-swipe transaction. I would try and test different duration.  \n",
    "3. Instead of dropping row containing missing values, I will look into imputing it.  \n",
    "4. Balancing the dataset without under sampling. For eg, using Oversampling method such as SMOTE or look into Cost-Sensitive Learning.   \n",
    "5. Interaction between attributes. For eg, interaction between country and POS entry mode, which would take into account: Does POS entry mode of 09 from Mexico more likely to be fraudulent?  \n",
    "6. I would look into more complex algorithm for modeling such as SVM or Ensemble learning.  \n",
    "\n",
    "Some Question I had.  \n",
    "* Is it possible for current balance to be less than available? Is it due to overdraft?  "
   ]
  },
  {
   "cell_type": "code",
   "execution_count": 65,
   "metadata": {},
   "outputs": [
    {
     "data": {
      "text/plain": [
       "385982"
      ]
     },
     "execution_count": 65,
     "metadata": {},
     "output_type": "execute_result"
    }
   ],
   "source": [
    "df[df.currentBalance < df.availableMoney].accountNumber.count()"
   ]
  }
 ],
 "metadata": {
  "kernelspec": {
   "display_name": "Python 3",
   "language": "python",
   "name": "python3"
  },
  "language_info": {
   "codemirror_mode": {
    "name": "ipython",
    "version": 3
   },
   "file_extension": ".py",
   "mimetype": "text/x-python",
   "name": "python",
   "nbconvert_exporter": "python",
   "pygments_lexer": "ipython3",
   "version": "3.8.5"
  }
 },
 "nbformat": 4,
 "nbformat_minor": 2
}
